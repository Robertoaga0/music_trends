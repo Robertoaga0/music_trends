{
 "cells": [
  {
   "cell_type": "code",
   "execution_count": 1,
   "metadata": {},
   "outputs": [],
   "source": [
    "import pandas as pd"
   ]
  },
  {
   "cell_type": "code",
   "execution_count": 2,
   "metadata": {},
   "outputs": [
    {
     "data": {
      "application/vnd.microsoft.datawrangler.viewer.v0+json": {
       "columns": [
        {
         "name": "index",
         "rawType": "int64",
         "type": "integer"
        },
        {
         "name": "Fecha",
         "rawType": "object",
         "type": "string"
        },
        {
         "name": "Posición",
         "rawType": "int64",
         "type": "integer"
        },
        {
         "name": "Canción",
         "rawType": "object",
         "type": "string"
        },
        {
         "name": "Artista",
         "rawType": "object",
         "type": "string"
        }
       ],
       "conversionMethod": "pd.DataFrame",
       "ref": "96a6ab68-8548-4057-b451-c6ff22f62627",
       "rows": [
        [
         "0",
         "2010-01-01",
         "4",
         "TiK ToK",
         "Ke$ha"
        ],
        [
         "1",
         "2010-01-01",
         "18",
         "Empire State Of Mind",
         "Jay-Z + Alicia Keys"
        ],
        [
         "2",
         "2010-01-01",
         "32",
         "Bad Romance",
         "Lady Gaga"
        ],
        [
         "3",
         "2010-01-01",
         "46",
         "Replay",
         "Iyaz"
        ],
        [
         "4",
         "2010-01-01",
         "60",
         "Fireflies",
         "Owl City"
        ],
        [
         "5",
         "2010-01-01",
         "74",
         "Sexy Chick",
         "David Guetta Featuring Akon"
        ],
        [
         "6",
         "2010-01-01",
         "88",
         "Whatcha Say",
         "Jason Derulo"
        ],
        [
         "7",
         "2010-01-01",
         "102",
         "Down",
         "Jay Sean Featuring Lil Wayne"
        ],
        [
         "8",
         "2010-01-01",
         "116",
         "Meet Me Halfway",
         "The Black Eyed Peas"
        ],
        [
         "9",
         "2010-01-01",
         "130",
         "3",
         "Britney Spears"
        ],
        [
         "10",
         "2010-01-01",
         "144",
         "Hard",
         "Rihanna Featuring Jeezy"
        ],
        [
         "11",
         "2010-01-01",
         "158",
         "BedRock",
         "Young Money Featuring Lloyd"
        ],
        [
         "12",
         "2010-01-01",
         "172",
         "How Low",
         "Ludacris"
        ],
        [
         "13",
         "2010-01-01",
         "186",
         "Do You Remember",
         "Jay Sean Featuring Sean Paul & Lil Jon"
        ],
        [
         "14",
         "2010-01-01",
         "200",
         "Paparazzi",
         "Lady Gaga"
        ],
        [
         "15",
         "2010-01-01",
         "214",
         "Forever",
         "Drake Featuring Kanye West, Lil Wayne & Eminem"
        ],
        [
         "16",
         "2010-01-01",
         "228",
         "Sweet Dreams",
         "Beyonce"
        ],
        [
         "17",
         "2010-01-01",
         "242",
         "Already Gone",
         "Kelly Clarkson"
        ],
        [
         "18",
         "2010-01-01",
         "256",
         "Party In The U.S.A.",
         "Miley Cyrus"
        ],
        [
         "19",
         "2010-01-01",
         "270",
         "I Gotta Feeling",
         "The Black Eyed Peas"
        ],
        [
         "20",
         "2010-01-01",
         "284",
         "Need You Now",
         "Lady Antebellum"
        ],
        [
         "21",
         "2010-01-01",
         "298",
         "You Belong With Me",
         "Taylor Swift"
        ],
        [
         "22",
         "2010-01-01",
         "312",
         "Two Is Better Than One",
         "Boys Like Girls Featuring Taylor Swift"
        ],
        [
         "23",
         "2010-01-01",
         "326",
         "I Can Transform Ya",
         "Chris Brown Featuring Lil Wayne & Swizz Beatz"
        ],
        [
         "24",
         "2010-01-01",
         "340",
         "Use Somebody",
         "Kings Of Leon"
        ],
        [
         "25",
         "2010-01-01",
         "354",
         "Money To Blow",
         "Birdman Featuring Lil Wayne & Drake"
        ],
        [
         "26",
         "2010-01-01",
         "368",
         "Try Sleeping With A Broken Heart",
         "Alicia Keys"
        ],
        [
         "27",
         "2010-01-01",
         "382",
         "Evacuate The Dancefloor",
         "Cascada"
        ],
        [
         "28",
         "2010-01-01",
         "396",
         "Hell Breaks Loose",
         "Eminem Featuring Dr. Dre"
        ],
        [
         "29",
         "2010-01-01",
         "410",
         "Fifteen",
         "Taylor Swift"
        ],
        [
         "30",
         "2010-01-01",
         "424",
         "Tie Me Down",
         "New Boyz Featuring Ray J"
        ],
        [
         "31",
         "2010-01-01",
         "438",
         "Hey, Soul Sister",
         "Train"
        ],
        [
         "32",
         "2010-01-01",
         "452",
         "Live Like We're Dying",
         "Kris Allen"
        ],
        [
         "33",
         "2010-01-01",
         "466",
         "Say Aah",
         "Trey Songz Featuring Fabolous"
        ],
        [
         "34",
         "2010-01-01",
         "480",
         "Gangsta Luv",
         "Snoop Dogg Featuring The-Dream"
        ],
        [
         "35",
         "2010-01-01",
         "494",
         "Baby By Me",
         "50 Cent Featuring Ne-Yo"
        ],
        [
         "36",
         "2010-01-01",
         "508",
         "Run This Town",
         "Jay-Z, Rihanna & Kanye West"
        ],
        [
         "37",
         "2010-01-01",
         "522",
         "Telephone",
         "Lady Gaga Featuring Beyonce"
        ],
        [
         "38",
         "2010-01-01",
         "536",
         "Cowboy Casanova",
         "Carrie Underwood"
        ],
        [
         "39",
         "2010-01-01",
         "550",
         "Give It Up To Me",
         "Shakira Featuring Lil Wayne"
        ],
        [
         "40",
         "2010-01-01",
         "564",
         "According To You",
         "Orianthi"
        ],
        [
         "41",
         "2010-01-01",
         "578",
         "I Invented Sex",
         "Trey Songz Featuring Drake"
        ],
        [
         "42",
         "2010-01-01",
         "592",
         "Do I",
         "Luke Bryan"
        ],
        [
         "43",
         "2010-01-01",
         "606",
         "Fallin' For You",
         "Colbie Caillat"
        ],
        [
         "44",
         "2010-01-01",
         "620",
         "Consider Me Gone",
         "Reba"
        ],
        [
         "45",
         "2010-01-01",
         "634",
         "If You Only Knew",
         "Shinedown"
        ],
        [
         "46",
         "2010-01-01",
         "648",
         "One Time",
         "Justin Bieber"
        ],
        [
         "47",
         "2010-01-01",
         "662",
         "The Truth",
         "Jason Aldean"
        ],
        [
         "48",
         "2010-01-01",
         "676",
         "It Kills Me",
         "Melanie Fiona"
        ],
        [
         "49",
         "2010-01-01",
         "690",
         "Southern Voice",
         "Tim McGraw"
        ]
       ],
       "shape": {
        "columns": 4,
        "rows": 79300
       }
      },
      "text/html": [
       "<div>\n",
       "<style scoped>\n",
       "    .dataframe tbody tr th:only-of-type {\n",
       "        vertical-align: middle;\n",
       "    }\n",
       "\n",
       "    .dataframe tbody tr th {\n",
       "        vertical-align: top;\n",
       "    }\n",
       "\n",
       "    .dataframe thead th {\n",
       "        text-align: right;\n",
       "    }\n",
       "</style>\n",
       "<table border=\"1\" class=\"dataframe\">\n",
       "  <thead>\n",
       "    <tr style=\"text-align: right;\">\n",
       "      <th></th>\n",
       "      <th>Fecha</th>\n",
       "      <th>Posición</th>\n",
       "      <th>Canción</th>\n",
       "      <th>Artista</th>\n",
       "    </tr>\n",
       "  </thead>\n",
       "  <tbody>\n",
       "    <tr>\n",
       "      <th>0</th>\n",
       "      <td>2010-01-01</td>\n",
       "      <td>4</td>\n",
       "      <td>TiK ToK</td>\n",
       "      <td>Ke$ha</td>\n",
       "    </tr>\n",
       "    <tr>\n",
       "      <th>1</th>\n",
       "      <td>2010-01-01</td>\n",
       "      <td>18</td>\n",
       "      <td>Empire State Of Mind</td>\n",
       "      <td>Jay-Z + Alicia Keys</td>\n",
       "    </tr>\n",
       "    <tr>\n",
       "      <th>2</th>\n",
       "      <td>2010-01-01</td>\n",
       "      <td>32</td>\n",
       "      <td>Bad Romance</td>\n",
       "      <td>Lady Gaga</td>\n",
       "    </tr>\n",
       "    <tr>\n",
       "      <th>3</th>\n",
       "      <td>2010-01-01</td>\n",
       "      <td>46</td>\n",
       "      <td>Replay</td>\n",
       "      <td>Iyaz</td>\n",
       "    </tr>\n",
       "    <tr>\n",
       "      <th>4</th>\n",
       "      <td>2010-01-01</td>\n",
       "      <td>60</td>\n",
       "      <td>Fireflies</td>\n",
       "      <td>Owl City</td>\n",
       "    </tr>\n",
       "    <tr>\n",
       "      <th>...</th>\n",
       "      <td>...</td>\n",
       "      <td>...</td>\n",
       "      <td>...</td>\n",
       "      <td>...</td>\n",
       "    </tr>\n",
       "    <tr>\n",
       "      <th>79295</th>\n",
       "      <td>2025-03-07</td>\n",
       "      <td>1334</td>\n",
       "      <td>No Pole</td>\n",
       "      <td>Don Toliver</td>\n",
       "    </tr>\n",
       "    <tr>\n",
       "      <th>79296</th>\n",
       "      <td>2025-03-07</td>\n",
       "      <td>1348</td>\n",
       "      <td>Small Town Fame</td>\n",
       "      <td>Drake</td>\n",
       "    </tr>\n",
       "    <tr>\n",
       "      <th>79297</th>\n",
       "      <td>2025-03-07</td>\n",
       "      <td>1362</td>\n",
       "      <td>Que Pasaria...</td>\n",
       "      <td>Rauw Alejandro &amp; Bad Bunny</td>\n",
       "    </tr>\n",
       "    <tr>\n",
       "      <th>79298</th>\n",
       "      <td>2025-03-07</td>\n",
       "      <td>1376</td>\n",
       "      <td>Greenlight</td>\n",
       "      <td>Tate McRae</td>\n",
       "    </tr>\n",
       "    <tr>\n",
       "      <th>79299</th>\n",
       "      <td>2025-03-07</td>\n",
       "      <td>1390</td>\n",
       "      <td>Weren't For The Wind</td>\n",
       "      <td>Ella Langley</td>\n",
       "    </tr>\n",
       "  </tbody>\n",
       "</table>\n",
       "<p>79300 rows × 4 columns</p>\n",
       "</div>"
      ],
      "text/plain": [
       "            Fecha  Posición               Canción                     Artista\n",
       "0      2010-01-01         4               TiK ToK                       Ke$ha\n",
       "1      2010-01-01        18  Empire State Of Mind         Jay-Z + Alicia Keys\n",
       "2      2010-01-01        32           Bad Romance                   Lady Gaga\n",
       "3      2010-01-01        46                Replay                        Iyaz\n",
       "4      2010-01-01        60             Fireflies                    Owl City\n",
       "...           ...       ...                   ...                         ...\n",
       "79295  2025-03-07      1334               No Pole                 Don Toliver\n",
       "79296  2025-03-07      1348       Small Town Fame                       Drake\n",
       "79297  2025-03-07      1362        Que Pasaria...  Rauw Alejandro & Bad Bunny\n",
       "79298  2025-03-07      1376            Greenlight                  Tate McRae\n",
       "79299  2025-03-07      1390  Weren't For The Wind                Ella Langley\n",
       "\n",
       "[79300 rows x 4 columns]"
      ]
     },
     "execution_count": 2,
     "metadata": {},
     "output_type": "execute_result"
    }
   ],
   "source": [
    "df = pd.read_csv(\"C:\\\\Users\\\\Rober\\\\Desktop\\\\PROYECTS\\\\Music Trends Proyect\\\\CSV\\\\billboard_hot100_semanal.csv\")\n",
    "\n",
    "df"
   ]
  },
  {
   "cell_type": "code",
   "execution_count": 3,
   "metadata": {},
   "outputs": [
    {
     "data": {
      "application/vnd.microsoft.datawrangler.viewer.v0+json": {
       "columns": [
        {
         "name": "index",
         "rawType": "int64",
         "type": "integer"
        },
        {
         "name": "año",
         "rawType": "int64",
         "type": "integer"
        },
        {
         "name": "genero_general",
         "rawType": "object",
         "type": "string"
        },
        {
         "name": "frecuencia",
         "rawType": "int64",
         "type": "integer"
        }
       ],
       "conversionMethod": "pd.DataFrame",
       "ref": "03f72682-d54f-4dbf-bd7b-93a3d434fbb8",
       "rows": [
        [
         "0",
         "2010",
         "Otros",
         "23"
        ],
        [
         "1",
         "2010",
         "electrónica",
         "3"
        ],
        [
         "2",
         "2010",
         "hip-hop",
         "6"
        ],
        [
         "3",
         "2010",
         "indie",
         "1"
        ],
        [
         "4",
         "2010",
         "latino",
         "2"
        ],
        [
         "5",
         "2010",
         "metal",
         "1"
        ],
        [
         "6",
         "2010",
         "pop",
         "8"
        ],
        [
         "7",
         "2010",
         "r&b",
         "2"
        ],
        [
         "8",
         "2010",
         "rock",
         "1"
        ],
        [
         "9",
         "2010",
         "samba",
         "3"
        ],
        [
         "10",
         "2011",
         "Otros",
         "23"
        ],
        [
         "11",
         "2011",
         "blues",
         "1"
        ],
        [
         "12",
         "2011",
         "clásica",
         "1"
        ],
        [
         "13",
         "2011",
         "country",
         "1"
        ],
        [
         "14",
         "2011",
         "electrónica",
         "2"
        ],
        [
         "15",
         "2011",
         "hip-hop",
         "5"
        ],
        [
         "16",
         "2011",
         "latino",
         "2"
        ],
        [
         "17",
         "2011",
         "metal",
         "2"
        ],
        [
         "18",
         "2011",
         "pop",
         "8"
        ],
        [
         "19",
         "2011",
         "reggae",
         "1"
        ],
        [
         "20",
         "2011",
         "rock",
         "2"
        ],
        [
         "21",
         "2011",
         "samba",
         "2"
        ],
        [
         "22",
         "2012",
         "Otros",
         "30"
        ],
        [
         "23",
         "2012",
         "blues",
         "2"
        ],
        [
         "24",
         "2012",
         "bollywood",
         "1"
        ],
        [
         "25",
         "2012",
         "dance",
         "1"
        ],
        [
         "26",
         "2012",
         "electrónica",
         "1"
        ],
        [
         "27",
         "2012",
         "flamenco",
         "1"
        ],
        [
         "28",
         "2012",
         "folk",
         "4"
        ],
        [
         "29",
         "2012",
         "hip-hop",
         "4"
        ],
        [
         "30",
         "2012",
         "latino",
         "1"
        ],
        [
         "31",
         "2012",
         "metal",
         "1"
        ],
        [
         "32",
         "2012",
         "pop",
         "1"
        ],
        [
         "33",
         "2012",
         "reggae",
         "1"
        ],
        [
         "34",
         "2012",
         "rock",
         "2"
        ],
        [
         "35",
         "2013",
         "Otros",
         "25"
        ],
        [
         "36",
         "2013",
         "dance",
         "2"
        ],
        [
         "37",
         "2013",
         "electrónica",
         "4"
        ],
        [
         "38",
         "2013",
         "folk",
         "2"
        ],
        [
         "39",
         "2013",
         "hip-hop",
         "1"
        ],
        [
         "40",
         "2013",
         "indie",
         "4"
        ],
        [
         "41",
         "2013",
         "k-pop",
         "2"
        ],
        [
         "42",
         "2013",
         "metal",
         "2"
        ],
        [
         "43",
         "2013",
         "pop",
         "3"
        ],
        [
         "44",
         "2013",
         "rock",
         "3"
        ],
        [
         "45",
         "2013",
         "samba",
         "2"
        ],
        [
         "46",
         "2014",
         "Otros",
         "22"
        ],
        [
         "47",
         "2014",
         "bollywood",
         "1"
        ],
        [
         "48",
         "2014",
         "clásica",
         "1"
        ],
        [
         "49",
         "2014",
         "dance",
         "7"
        ]
       ],
       "shape": {
        "columns": 3,
        "rows": 169
       }
      },
      "text/html": [
       "<div>\n",
       "<style scoped>\n",
       "    .dataframe tbody tr th:only-of-type {\n",
       "        vertical-align: middle;\n",
       "    }\n",
       "\n",
       "    .dataframe tbody tr th {\n",
       "        vertical-align: top;\n",
       "    }\n",
       "\n",
       "    .dataframe thead th {\n",
       "        text-align: right;\n",
       "    }\n",
       "</style>\n",
       "<table border=\"1\" class=\"dataframe\">\n",
       "  <thead>\n",
       "    <tr style=\"text-align: right;\">\n",
       "      <th></th>\n",
       "      <th>año</th>\n",
       "      <th>genero_general</th>\n",
       "      <th>frecuencia</th>\n",
       "    </tr>\n",
       "  </thead>\n",
       "  <tbody>\n",
       "    <tr>\n",
       "      <th>0</th>\n",
       "      <td>2010</td>\n",
       "      <td>Otros</td>\n",
       "      <td>23</td>\n",
       "    </tr>\n",
       "    <tr>\n",
       "      <th>1</th>\n",
       "      <td>2010</td>\n",
       "      <td>electrónica</td>\n",
       "      <td>3</td>\n",
       "    </tr>\n",
       "    <tr>\n",
       "      <th>2</th>\n",
       "      <td>2010</td>\n",
       "      <td>hip-hop</td>\n",
       "      <td>6</td>\n",
       "    </tr>\n",
       "    <tr>\n",
       "      <th>3</th>\n",
       "      <td>2010</td>\n",
       "      <td>indie</td>\n",
       "      <td>1</td>\n",
       "    </tr>\n",
       "    <tr>\n",
       "      <th>4</th>\n",
       "      <td>2010</td>\n",
       "      <td>latino</td>\n",
       "      <td>2</td>\n",
       "    </tr>\n",
       "    <tr>\n",
       "      <th>...</th>\n",
       "      <td>...</td>\n",
       "      <td>...</td>\n",
       "      <td>...</td>\n",
       "    </tr>\n",
       "    <tr>\n",
       "      <th>164</th>\n",
       "      <td>2025</td>\n",
       "      <td>latino</td>\n",
       "      <td>1</td>\n",
       "    </tr>\n",
       "    <tr>\n",
       "      <th>165</th>\n",
       "      <td>2025</td>\n",
       "      <td>metal</td>\n",
       "      <td>1</td>\n",
       "    </tr>\n",
       "    <tr>\n",
       "      <th>166</th>\n",
       "      <td>2025</td>\n",
       "      <td>pop</td>\n",
       "      <td>2</td>\n",
       "    </tr>\n",
       "    <tr>\n",
       "      <th>167</th>\n",
       "      <td>2025</td>\n",
       "      <td>r&amp;b</td>\n",
       "      <td>1</td>\n",
       "    </tr>\n",
       "    <tr>\n",
       "      <th>168</th>\n",
       "      <td>2025</td>\n",
       "      <td>rock</td>\n",
       "      <td>1</td>\n",
       "    </tr>\n",
       "  </tbody>\n",
       "</table>\n",
       "<p>169 rows × 3 columns</p>\n",
       "</div>"
      ],
      "text/plain": [
       "      año genero_general  frecuencia\n",
       "0    2010          Otros          23\n",
       "1    2010    electrónica           3\n",
       "2    2010        hip-hop           6\n",
       "3    2010          indie           1\n",
       "4    2010         latino           2\n",
       "..    ...            ...         ...\n",
       "164  2025         latino           1\n",
       "165  2025          metal           1\n",
       "166  2025            pop           2\n",
       "167  2025            r&b           1\n",
       "168  2025           rock           1\n",
       "\n",
       "[169 rows x 3 columns]"
      ]
     },
     "execution_count": 3,
     "metadata": {},
     "output_type": "execute_result"
    }
   ],
   "source": [
    "df_generos = pd.read_csv(\"C:\\\\Users\\\\Rober\\\\Desktop\\\\PROYECTS\\\\Music Trends Proyect\\\\CSV\\\\generos_mas_populares_por_año.csv\")\n",
    "df_generos"
   ]
  }
 ],
 "metadata": {
  "kernelspec": {
   "display_name": "Python 3",
   "language": "python",
   "name": "python3"
  },
  "language_info": {
   "codemirror_mode": {
    "name": "ipython",
    "version": 3
   },
   "file_extension": ".py",
   "mimetype": "text/x-python",
   "name": "python",
   "nbconvert_exporter": "python",
   "pygments_lexer": "ipython3",
   "version": "3.12.2"
  }
 },
 "nbformat": 4,
 "nbformat_minor": 2
}
