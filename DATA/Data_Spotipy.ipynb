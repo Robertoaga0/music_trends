{
 "cells": [
  {
   "cell_type": "markdown",
   "metadata": {},
   "source": [
    "# API SPOTIFY"
   ]
  },
  {
   "cell_type": "code",
   "execution_count": 1,
   "metadata": {},
   "outputs": [
    {
     "name": "stdout",
     "output_type": "stream",
     "text": [
      "Collecting spotipy\n",
      "  Downloading spotipy-2.25.1-py3-none-any.whl.metadata (5.1 kB)\n",
      "Collecting redis>=3.5.3 (from spotipy)\n",
      "  Downloading redis-5.2.1-py3-none-any.whl.metadata (9.1 kB)\n",
      "Requirement already satisfied: requests>=2.25.0 in c:\\users\\rober\\appdata\\local\\programs\\python\\python312\\lib\\site-packages (from spotipy) (2.32.3)\n",
      "Requirement already satisfied: urllib3>=1.26.0 in c:\\users\\rober\\appdata\\local\\programs\\python\\python312\\lib\\site-packages (from spotipy) (2.2.3)\n",
      "Requirement already satisfied: charset-normalizer<4,>=2 in c:\\users\\rober\\appdata\\local\\programs\\python\\python312\\lib\\site-packages (from requests>=2.25.0->spotipy) (3.4.0)\n",
      "Requirement already satisfied: idna<4,>=2.5 in c:\\users\\rober\\appdata\\local\\programs\\python\\python312\\lib\\site-packages (from requests>=2.25.0->spotipy) (3.10)\n",
      "Requirement already satisfied: certifi>=2017.4.17 in c:\\users\\rober\\appdata\\local\\programs\\python\\python312\\lib\\site-packages (from requests>=2.25.0->spotipy) (2024.8.30)\n",
      "Downloading spotipy-2.25.1-py3-none-any.whl (31 kB)\n",
      "Downloading redis-5.2.1-py3-none-any.whl (261 kB)\n",
      "   ---------------------------------------- 0.0/261.5 kB ? eta -:--:--\n",
      "   ---- ---------------------------------- 30.7/261.5 kB 660.6 kB/s eta 0:00:01\n",
      "   --------------- ------------------------ 102.4/261.5 kB 1.2 MB/s eta 0:00:01\n",
      "   ------------------------------------ --- 235.5/261.5 kB 1.8 MB/s eta 0:00:01\n",
      "   ---------------------------------------- 261.5/261.5 kB 1.8 MB/s eta 0:00:00\n",
      "Installing collected packages: redis, spotipy\n",
      "Successfully installed redis-5.2.1 spotipy-2.25.1\n",
      "Note: you may need to restart the kernel to use updated packages.\n"
     ]
    },
    {
     "name": "stderr",
     "output_type": "stream",
     "text": [
      "\n",
      "[notice] A new release of pip is available: 24.0 -> 25.0.1\n",
      "[notice] To update, run: python.exe -m pip install --upgrade pip\n"
     ]
    }
   ],
   "source": [
    "pip install spotipy"
   ]
  },
  {
   "cell_type": "code",
   "execution_count": 2,
   "metadata": {},
   "outputs": [],
   "source": [
    "import spotipy \n",
    "from spotipy.oauth2 import SpotifyClientCredentials\n",
    "\n",
    "client_id = \"748f4cce341d436cb9ae583633bdafd6\"\n",
    "client_secret = \"bdcc7c65a9244123a26d9472d3dc6865\"\n",
    "redirect_uri=\"http://localhost:8888/callback\",\n",
    "scope=\"playlist-read-private\"\n",
    "\n",
    "sp = spotipy.Spotify(auth_manager=SpotifyClientCredentials(client_id=client_id, client_secret=client_secret))"
   ]
  },
  {
   "cell_type": "code",
   "execution_count": 3,
   "metadata": {},
   "outputs": [
    {
     "name": "stdout",
     "output_type": "stream",
     "text": [
      "Access Token: BQAuLbfddOmqpdtFrsf4fm0qTahrVQ39mfowQ3aAMj20bOPlqZTkHaIkECeyStWkFp6UlipwrZ0NXqhBdvC1Xik4E4gkXbmFQmJCzfQ1MW6-5g80EMn5_BI3tKmCqZyLF-lpoek4Nfk\n"
     ]
    }
   ],
   "source": [
    "import requests\n",
    "\n",
    "CLIENT_ID = \"748f4cce341d436cb9ae583633bdafd6\"\n",
    "CLIENT_SECRET = \"bdcc7c65a9244123a26d9472d3dc6865\"\n",
    "\n",
    "url = \"https://accounts.spotify.com/api/token\"\n",
    "payload = {\n",
    "    \"grant_type\": \"client_credentials\",\n",
    "    \"client_id\": CLIENT_ID,\n",
    "    \"client_secret\": CLIENT_SECRET\n",
    "}\n",
    "\n",
    "response = requests.post(url, data=payload)\n",
    "access_token = response.json().get(\"access_token\")\n",
    "\n",
    "print(\"Access Token:\", access_token)\n"
   ]
  },
  {
   "cell_type": "markdown",
   "metadata": {},
   "source": [
    "Docs API = https://spotipy.readthedocs.io/en/2.22.1/#spotipy.client.Spotify.category_playlists"
   ]
  },
  {
   "cell_type": "code",
   "execution_count": 7,
   "metadata": {},
   "outputs": [
    {
     "name": "stdout",
     "output_type": "stream",
     "text": [
      "                         nombre       artista              id_artista   año\n",
      "0          Just the Way You Are    Bruno Mars  0du5cEVh5yTK9QJze8zA0C  2010\n",
      "1                    Angels Cry  Mariah Carey  4iHNK0tOyZPYnBU7nGAgpQ  2010\n",
      "2      Only Girl (In The World)       Rihanna  5pKCCKE2ajJHZ9KAiaK11H  2010\n",
      "3  The Real Slim Shady - Edited        Eminem  7dGJo4pcD2V6oG8kP0tJRR  2010\n",
      "4                     The Spins    Mac Miller  4LLpKhyESsyAXpc4laK94U  2010\n"
     ]
    }
   ],
   "source": [
    "import requests\n",
    "import pandas as pd\n",
    "\n",
    "# 👉 Reemplaza esto con tu Access Token válido\n",
    "ACCESS_TOKEN1 = access_token\n",
    "\n",
    "# Función para obtener canciones populares por año\n",
    "def obtener_canciones_por_año(año):\n",
    "    url = \"https://api.spotify.com/v1/search\"\n",
    "    params = {\n",
    "        \"q\": f\"year:{año}\",\n",
    "        \"type\": \"track\",\n",
    "        \"limit\": 50  # Puedes cambiar este valor para obtener más resultados\n",
    "    }\n",
    "    headers = {\"Authorization\": f\"Bearer {ACCESS_TOKEN1}\"}\n",
    "\n",
    "    response = requests.get(url, headers=headers, params=params)\n",
    "    data = response.json()\n",
    "\n",
    "    canciones = []\n",
    "    if \"tracks\" in data:\n",
    "        for item in data[\"tracks\"][\"items\"]:\n",
    "            canciones.append({\n",
    "                \"nombre\": item[\"name\"],\n",
    "                \"artista\": item[\"artists\"][0][\"name\"],\n",
    "                \"id_artista\": item[\"artists\"][0][\"id\"],\n",
    "                \"año\": año\n",
    "            })\n",
    "    return canciones\n",
    "\n",
    "# Obtener datos para varios años\n",
    "años = list(range(2010, 2026))  # Desde 2010 hasta 2025\n",
    "canciones_por_año = []\n",
    "\n",
    "for año in años:\n",
    "    canciones_por_año.extend(obtener_canciones_por_año(año))\n",
    "\n",
    "# Convertir a DataFrame\n",
    "df_canciones = pd.DataFrame(canciones_por_año)\n",
    "print(df_canciones.head())\n",
    "\n",
    "# Guardar en CSV\n",
    "df_canciones.to_csv(\"canciones_por_año.csv\", index=False)\n"
   ]
  },
  {
   "cell_type": "code",
   "execution_count": 8,
   "metadata": {},
   "outputs": [
    {
     "name": "stdout",
     "output_type": "stream",
     "text": [
      "                         nombre       artista              id_artista   año  \\\n",
      "0          Just the Way You Are    Bruno Mars  0du5cEVh5yTK9QJze8zA0C  2010   \n",
      "1                    Angels Cry  Mariah Carey  4iHNK0tOyZPYnBU7nGAgpQ  2010   \n",
      "2      Only Girl (In The World)       Rihanna  5pKCCKE2ajJHZ9KAiaK11H  2010   \n",
      "3  The Real Slim Shady - Edited        Eminem  7dGJo4pcD2V6oG8kP0tJRR  2010   \n",
      "4                     The Spins    Mac Miller  4LLpKhyESsyAXpc4laK94U  2010   \n",
      "\n",
      "        genero  \n",
      "0  Desconocido  \n",
      "1    christmas  \n",
      "2  Desconocido  \n",
      "3          rap  \n",
      "4  Desconocido  \n"
     ]
    }
   ],
   "source": [
    "# Función para obtener el género del artista\n",
    "def obtener_genero_artista(artist_id):\n",
    "    url = f\"https://api.spotify.com/v1/artists/{artist_id}\"\n",
    "    headers = {\"Authorization\": f\"Bearer {ACCESS_TOKEN1}\"}\n",
    "\n",
    "    response = requests.get(url, headers=headers)\n",
    "    data = response.json()\n",
    "\n",
    "    if \"genres\" in data and data[\"genres\"]:\n",
    "        return data[\"genres\"][0]  # Tomamos el primer género\n",
    "    return \"Desconocido\"\n",
    "\n",
    "# Aplicar la función a todas las canciones\n",
    "df_canciones[\"genero\"] = df_canciones[\"id_artista\"].apply(obtener_genero_artista)\n",
    "\n",
    "# Guardar con géneros\n",
    "df_canciones.to_csv(\"canciones_con_genero.csv\", index=False)\n",
    "\n",
    "print(df_canciones.head())\n"
   ]
  },
  {
   "cell_type": "code",
   "execution_count": 9,
   "metadata": {},
   "outputs": [
    {
     "name": "stdout",
     "output_type": "stream",
     "text": [
      "      año          genero  frecuencia\n",
      "0    2010     Desconocido          23\n",
      "16   2010             rap           6\n",
      "14   2010             pop           3\n",
      "1    2010       christmas           2\n",
      "3    2010             edm           2\n",
      "..    ...             ...         ...\n",
      "279  2025  brooklyn drill           1\n",
      "280  2025   chamber music           1\n",
      "281  2025  christian folk           1\n",
      "282  2025         country           1\n",
      "283  2025         doo-wop           1\n",
      "\n",
      "[160 rows x 3 columns]\n"
     ]
    }
   ],
   "source": [
    "# Contar la frecuencia de cada género por año\n",
    "df_frecuencia = df_canciones.groupby([\"año\", \"genero\"]).size().reset_index(name=\"frecuencia\")\n",
    "\n",
    "# Guardar los datos\n",
    "df_frecuencia.to_csv(\"generos_populares_por_año.csv\", index=False)\n",
    "\n",
    "# Mostrar los 10 géneros más frecuentes por año\n",
    "print(df_frecuencia.sort_values([\"año\", \"frecuencia\"], ascending=[True, False]).groupby(\"año\").head(10))\n"
   ]
  },
  {
   "cell_type": "code",
   "execution_count": 39,
   "metadata": {},
   "outputs": [],
   "source": [
    "# Diccionario para agrupar géneros en categorías principales\n",
    "mapa_generos = {\n",
    "    \"pop\": [\"pop\", \"dance pop\", \"christmas pop\", \"electropop\",\"christmas\",\"soft pop\",\"indonesian pop\",\"nederpop\",\"art pop\",\"schlager\",\"baroque pop\",\"cantopop\",\"mandopop\",\"britpop\",\"german pop\",\"french pop\",\"schlagerparty\",\"chamber pop\",\"brazilian pop\",\"norwegian pop\",\"bedroom pop\",\"iskelmä\",\"psychedelic pop\",\"city pop\",\"pop urbaine\",\"gujarati pop\"],\n",
    "    \"rock\": [\"rock\", \"alternative rock\", \"hard rock\",\"folk rock\",\"psychedelic rock\",\"rock en español\",\"post-rock\",\"grunge\",\"modern rock\",\"pop punk\",\"emo\",\"classic rock\",\"neue deutsche welle\",\"pinoy alternative\",\"new wave\",\"brazilian rock\",\"thai rock\",\"post-punk\",\"shoegaze\"],\n",
    "    \"hip-hop\": [\"hip hop\", \"rap\", \"trap\", \"gangsta rap\",\"experimental hip hop\",\"german hip hop\",\"east coast hip hop\",\"brazilian hip hop\",\"melodic rap\",\"emo rap\",\"italian trap\",\"rage rap\",\"egyptian hip hop\",\"grime\",\"argentine trap\",\"trap latino\",\"boom bap\",\"uk drill\",\"brooklyn drill\"],\n",
    "    \"electrónica\": [\"edm\", \"house\", \"techno\", \"trance\", \"drum and bass\",\"jungle\",\"minimal techno\",\"tropical house\",\"future bass\",\"electronica\",\"tech house\",\"cedm\",\"idm\",\"french house\",\"electroclash\"],\n",
    "    \"latino\": [\"reggaeton\", \"latin pop\", \"salsa\", \"bachata\", \"tropical\",\"latin alternative\",\"bolero\",\"cumbia\",\"champeta\",\"reggaeton chileno\",\"rkt\"],\n",
    "    \"metal\": [\"metal\", \"death metal\", \"black metal\", \"metalcore\",\"symphonic metal\",\"nu metal\",\"melodic hardcore\",\"slowcore\",\"horrorcore\",\"nightcore\"],\n",
    "    \"jazz\": [\"jazz\", \"smooth jazz\", \"cool jazz\",\"french jazz\",\"doo-wop\"],\n",
    "    \"clásica\": [\"classical\", \"baroque\", \"orchestral\",\"opera\",\"neoclassical\",\"choral\",\"chamber music\"],\n",
    "    \"folk\": [\"folk\", \"indie folk\", \"americana\", \"folk pop\",\"phleng phuea chiwit\",\"christian folk\"],\n",
    "    \"blues\": [\"blues\", \"delta blues\", \"chicago blues\",\"southern gospel\",\"retro soul\",\"soul\",\"gospel\",\"northern soul\"],\n",
    "    \"country\": [\"country\", \"modern country\", \"classic country\",\"bluegrass\"],\n",
    "    \"reggae\": [\"reggae\", \"dancehall\", \"roots reggae\",\"spanish-language reggae\"],\n",
    "    \"r&b\": [\"r&b\",\"alternative r&b\"],\n",
    "    \"samba\" : [\"pagode\", \"samba\", \"axé\",\"mpb\",\"pagode baiano\",\"sertanejo\",\"sertanejo tradicional\",\"forró\",\"nova mpb\",\"agronejo\"],\n",
    "    \"africano\" : [\"afrobeat\", \"afropop\",\"kizomba\",\"afrobeats\"],\n",
    "    \"k-pop\" : [\"k-pop\", \"k-hip hop\",\"thai pop\",\"c-pop\",\"t-pop\"],\n",
    "    \"indie\" : [\"indie pop\", \"indie folk\", \"indie rock\",\"indie\",\"piano house\",\"tamil indie\"],\n",
    "    \"bollywood\" : [\"bollywood\",\"bangla pop\",\"mollywood\"],\n",
    "    \"dance\" : [\"post-disco\",\"italo disco\"],\n",
    "    \"flamenco\" : [\"flamenco\",\"flamenco pop\"]\n",
    "\n",
    "}\n"
   ]
  },
  {
   "cell_type": "code",
   "execution_count": 40,
   "metadata": {},
   "outputs": [
    {
     "name": "stdout",
     "output_type": "stream",
     "text": [
      "                                       nombre         genero genero_general\n",
      "0                        Just the Way You Are    Desconocido          Otros\n",
      "1                                  Angels Cry      christmas            pop\n",
      "2                    Only Girl (In The World)    Desconocido          Otros\n",
      "3                The Real Slim Shady - Edited            rap        hip-hop\n",
      "4                                   The Spins    Desconocido          Otros\n",
      "5                             Smooth Criminal    Desconocido          Otros\n",
      "6                                         S&M    Desconocido          Otros\n",
      "7              Estuve a punto de - Entrevista      latin pop         latino\n",
      "8   DJ Got Us Fallin' In Love (feat. Pitbull)            r&b            r&b\n",
      "9                                       Alice    Desconocido          Otros\n",
      "10                                  Marry You    Desconocido          Otros\n",
      "11                                 Let You Go  drum and bass    electrónica\n",
      "12                                    Runaway            rap        hip-hop\n",
      "13     Eu Sou O Samba - Live From Brazil/2010         pagode          samba\n",
      "14                       Love The Way You Lie            rap        hip-hop\n",
      "15          Find Your Love - Extended Version            rap        hip-hop\n",
      "16                           Hey, Soul Sister       soft pop            pop\n",
      "17                                   The Fear    Desconocido          Otros\n",
      "18                                    Grenade    Desconocido          Otros\n",
      "19                       Guess I'm Doing Fine      folk rock           rock\n"
     ]
    }
   ],
   "source": [
    "# Función para asignar género general\n",
    "def asignar_genero_general(genero_especifico):\n",
    "    for categoria, lista_generos in mapa_generos.items():\n",
    "        if genero_especifico in lista_generos:\n",
    "            return categoria\n",
    "    return \"Otros\"  # Si no encontramos coincidencia, lo ponemos en \"Otros\"\n",
    "\n",
    "# Aplicar la función a la columna de géneros\n",
    "df_canciones[\"genero_general\"] = df_canciones[\"genero\"].apply(asignar_genero_general)\n",
    "\n",
    "# Guardar en CSV\n",
    "df_canciones.to_csv(\"canciones_con_genero_general.csv\", index=False)\n",
    "print(df_canciones[[\"nombre\", \"genero\", \"genero_general\"]].head(20))\n"
   ]
  },
  {
   "cell_type": "code",
   "execution_count": 41,
   "metadata": {},
   "outputs": [
    {
     "name": "stdout",
     "output_type": "stream",
     "text": [
      "      año genero_general  frecuencia\n",
      "0    2010          Otros          23\n",
      "6    2010            pop           8\n",
      "2    2010        hip-hop           6\n",
      "1    2010    electrónica           3\n",
      "9    2010          samba           3\n",
      "..    ...            ...         ...\n",
      "157  2025          Otros          35\n",
      "162  2025        hip-hop           3\n",
      "160  2025        country           2\n",
      "166  2025            pop           2\n",
      "158  2025          blues           1\n",
      "\n",
      "[80 rows x 3 columns]\n"
     ]
    }
   ],
   "source": [
    "# Contar la frecuencia de cada género general por año\n",
    "df_frecuencia = df_canciones.groupby([\"año\", \"genero_general\"]).size().reset_index(name=\"frecuencia\")\n",
    "\n",
    "# Guardar los datos\n",
    "df_frecuencia.to_csv(\"generos_mas_populares_por_año.csv\", index=False)\n",
    "\n",
    "# Mostrar los 5 géneros más populares por año\n",
    "print(df_frecuencia.sort_values([\"año\", \"frecuencia\"], ascending=[True, False]).groupby(\"año\").head(5))\n"
   ]
  },
  {
   "cell_type": "code",
   "execution_count": 33,
   "metadata": {},
   "outputs": [
    {
     "name": "stdout",
     "output_type": "stream",
     "text": [
      "['Desconocido' 'anime' 'lullaby' 'oyun havasi' 'celtic'\n",
      " 'singer-songwriter' 'comedy' \"children's music\" 'christian' 'avant-garde'\n",
      " 'medieval' 'devotional' 'sholawat' 'italian singer-songwriter' 'opm'\n",
      " 'alternative r&b']\n"
     ]
    }
   ],
   "source": [
    "# Revisar los géneros que quedaron en \"Otros\"\n",
    "generos_otros = df_canciones[df_canciones[\"genero_general\"] == \"Otros\"][\"genero\"].unique()\n",
    "print(generos_otros)\n"
   ]
  }
 ],
 "metadata": {
  "kernelspec": {
   "display_name": "Python 3",
   "language": "python",
   "name": "python3"
  },
  "language_info": {
   "codemirror_mode": {
    "name": "ipython",
    "version": 3
   },
   "file_extension": ".py",
   "mimetype": "text/x-python",
   "name": "python",
   "nbconvert_exporter": "python",
   "pygments_lexer": "ipython3",
   "version": "3.12.2"
  }
 },
 "nbformat": 4,
 "nbformat_minor": 2
}
