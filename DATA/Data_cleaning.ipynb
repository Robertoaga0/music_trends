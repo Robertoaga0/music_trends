{
 "cells": [
  {
   "cell_type": "code",
   "execution_count": 22,
   "metadata": {},
   "outputs": [],
   "source": [
    "import pandas as pd"
   ]
  },
  {
   "cell_type": "code",
   "execution_count": 2,
   "metadata": {},
   "outputs": [
    {
     "data": {
      "application/vnd.microsoft.datawrangler.viewer.v0+json": {
       "columns": [
        {
         "name": "index",
         "rawType": "int64",
         "type": "integer"
        },
        {
         "name": "Fecha",
         "rawType": "object",
         "type": "string"
        },
        {
         "name": "Posición",
         "rawType": "int64",
         "type": "integer"
        },
        {
         "name": "Canción",
         "rawType": "object",
         "type": "string"
        },
        {
         "name": "Artista",
         "rawType": "object",
         "type": "string"
        }
       ],
       "conversionMethod": "pd.DataFrame",
       "ref": "59010f6e-9da0-4465-9c1e-9d0a385c1742",
       "rows": [
        [
         "0",
         "2010-01-01",
         "4",
         "TiK ToK",
         "Ke$ha"
        ],
        [
         "1",
         "2010-01-01",
         "18",
         "Empire State Of Mind",
         "Jay-Z + Alicia Keys"
        ],
        [
         "2",
         "2010-01-01",
         "32",
         "Bad Romance",
         "Lady Gaga"
        ],
        [
         "3",
         "2010-01-01",
         "46",
         "Replay",
         "Iyaz"
        ],
        [
         "4",
         "2010-01-01",
         "60",
         "Fireflies",
         "Owl City"
        ],
        [
         "5",
         "2010-01-01",
         "74",
         "Sexy Chick",
         "David Guetta Featuring Akon"
        ],
        [
         "6",
         "2010-01-01",
         "88",
         "Whatcha Say",
         "Jason Derulo"
        ],
        [
         "7",
         "2010-01-01",
         "102",
         "Down",
         "Jay Sean Featuring Lil Wayne"
        ],
        [
         "8",
         "2010-01-01",
         "116",
         "Meet Me Halfway",
         "The Black Eyed Peas"
        ],
        [
         "9",
         "2010-01-01",
         "130",
         "3",
         "Britney Spears"
        ],
        [
         "10",
         "2010-01-01",
         "144",
         "Hard",
         "Rihanna Featuring Jeezy"
        ],
        [
         "11",
         "2010-01-01",
         "158",
         "BedRock",
         "Young Money Featuring Lloyd"
        ],
        [
         "12",
         "2010-01-01",
         "172",
         "How Low",
         "Ludacris"
        ],
        [
         "13",
         "2010-01-01",
         "186",
         "Do You Remember",
         "Jay Sean Featuring Sean Paul & Lil Jon"
        ],
        [
         "14",
         "2010-01-01",
         "200",
         "Paparazzi",
         "Lady Gaga"
        ],
        [
         "15",
         "2010-01-01",
         "214",
         "Forever",
         "Drake Featuring Kanye West, Lil Wayne & Eminem"
        ],
        [
         "16",
         "2010-01-01",
         "228",
         "Sweet Dreams",
         "Beyonce"
        ],
        [
         "17",
         "2010-01-01",
         "242",
         "Already Gone",
         "Kelly Clarkson"
        ],
        [
         "18",
         "2010-01-01",
         "256",
         "Party In The U.S.A.",
         "Miley Cyrus"
        ],
        [
         "19",
         "2010-01-01",
         "270",
         "I Gotta Feeling",
         "The Black Eyed Peas"
        ],
        [
         "20",
         "2010-01-01",
         "284",
         "Need You Now",
         "Lady Antebellum"
        ],
        [
         "21",
         "2010-01-01",
         "298",
         "You Belong With Me",
         "Taylor Swift"
        ],
        [
         "22",
         "2010-01-01",
         "312",
         "Two Is Better Than One",
         "Boys Like Girls Featuring Taylor Swift"
        ],
        [
         "23",
         "2010-01-01",
         "326",
         "I Can Transform Ya",
         "Chris Brown Featuring Lil Wayne & Swizz Beatz"
        ],
        [
         "24",
         "2010-01-01",
         "340",
         "Use Somebody",
         "Kings Of Leon"
        ],
        [
         "25",
         "2010-01-01",
         "354",
         "Money To Blow",
         "Birdman Featuring Lil Wayne & Drake"
        ],
        [
         "26",
         "2010-01-01",
         "368",
         "Try Sleeping With A Broken Heart",
         "Alicia Keys"
        ],
        [
         "27",
         "2010-01-01",
         "382",
         "Evacuate The Dancefloor",
         "Cascada"
        ],
        [
         "28",
         "2010-01-01",
         "396",
         "Hell Breaks Loose",
         "Eminem Featuring Dr. Dre"
        ],
        [
         "29",
         "2010-01-01",
         "410",
         "Fifteen",
         "Taylor Swift"
        ],
        [
         "30",
         "2010-01-01",
         "424",
         "Tie Me Down",
         "New Boyz Featuring Ray J"
        ],
        [
         "31",
         "2010-01-01",
         "438",
         "Hey, Soul Sister",
         "Train"
        ],
        [
         "32",
         "2010-01-01",
         "452",
         "Live Like We're Dying",
         "Kris Allen"
        ],
        [
         "33",
         "2010-01-01",
         "466",
         "Say Aah",
         "Trey Songz Featuring Fabolous"
        ],
        [
         "34",
         "2010-01-01",
         "480",
         "Gangsta Luv",
         "Snoop Dogg Featuring The-Dream"
        ],
        [
         "35",
         "2010-01-01",
         "494",
         "Baby By Me",
         "50 Cent Featuring Ne-Yo"
        ],
        [
         "36",
         "2010-01-01",
         "508",
         "Run This Town",
         "Jay-Z, Rihanna & Kanye West"
        ],
        [
         "37",
         "2010-01-01",
         "522",
         "Telephone",
         "Lady Gaga Featuring Beyonce"
        ],
        [
         "38",
         "2010-01-01",
         "536",
         "Cowboy Casanova",
         "Carrie Underwood"
        ],
        [
         "39",
         "2010-01-01",
         "550",
         "Give It Up To Me",
         "Shakira Featuring Lil Wayne"
        ],
        [
         "40",
         "2010-01-01",
         "564",
         "According To You",
         "Orianthi"
        ],
        [
         "41",
         "2010-01-01",
         "578",
         "I Invented Sex",
         "Trey Songz Featuring Drake"
        ],
        [
         "42",
         "2010-01-01",
         "592",
         "Do I",
         "Luke Bryan"
        ],
        [
         "43",
         "2010-01-01",
         "606",
         "Fallin' For You",
         "Colbie Caillat"
        ],
        [
         "44",
         "2010-01-01",
         "620",
         "Consider Me Gone",
         "Reba"
        ],
        [
         "45",
         "2010-01-01",
         "634",
         "If You Only Knew",
         "Shinedown"
        ],
        [
         "46",
         "2010-01-01",
         "648",
         "One Time",
         "Justin Bieber"
        ],
        [
         "47",
         "2010-01-01",
         "662",
         "The Truth",
         "Jason Aldean"
        ],
        [
         "48",
         "2010-01-01",
         "676",
         "It Kills Me",
         "Melanie Fiona"
        ],
        [
         "49",
         "2010-01-01",
         "690",
         "Southern Voice",
         "Tim McGraw"
        ]
       ],
       "shape": {
        "columns": 4,
        "rows": 79300
       }
      },
      "text/html": [
       "<div>\n",
       "<style scoped>\n",
       "    .dataframe tbody tr th:only-of-type {\n",
       "        vertical-align: middle;\n",
       "    }\n",
       "\n",
       "    .dataframe tbody tr th {\n",
       "        vertical-align: top;\n",
       "    }\n",
       "\n",
       "    .dataframe thead th {\n",
       "        text-align: right;\n",
       "    }\n",
       "</style>\n",
       "<table border=\"1\" class=\"dataframe\">\n",
       "  <thead>\n",
       "    <tr style=\"text-align: right;\">\n",
       "      <th></th>\n",
       "      <th>Fecha</th>\n",
       "      <th>Posición</th>\n",
       "      <th>Canción</th>\n",
       "      <th>Artista</th>\n",
       "    </tr>\n",
       "  </thead>\n",
       "  <tbody>\n",
       "    <tr>\n",
       "      <th>0</th>\n",
       "      <td>2010-01-01</td>\n",
       "      <td>4</td>\n",
       "      <td>TiK ToK</td>\n",
       "      <td>Ke$ha</td>\n",
       "    </tr>\n",
       "    <tr>\n",
       "      <th>1</th>\n",
       "      <td>2010-01-01</td>\n",
       "      <td>18</td>\n",
       "      <td>Empire State Of Mind</td>\n",
       "      <td>Jay-Z + Alicia Keys</td>\n",
       "    </tr>\n",
       "    <tr>\n",
       "      <th>2</th>\n",
       "      <td>2010-01-01</td>\n",
       "      <td>32</td>\n",
       "      <td>Bad Romance</td>\n",
       "      <td>Lady Gaga</td>\n",
       "    </tr>\n",
       "    <tr>\n",
       "      <th>3</th>\n",
       "      <td>2010-01-01</td>\n",
       "      <td>46</td>\n",
       "      <td>Replay</td>\n",
       "      <td>Iyaz</td>\n",
       "    </tr>\n",
       "    <tr>\n",
       "      <th>4</th>\n",
       "      <td>2010-01-01</td>\n",
       "      <td>60</td>\n",
       "      <td>Fireflies</td>\n",
       "      <td>Owl City</td>\n",
       "    </tr>\n",
       "    <tr>\n",
       "      <th>...</th>\n",
       "      <td>...</td>\n",
       "      <td>...</td>\n",
       "      <td>...</td>\n",
       "      <td>...</td>\n",
       "    </tr>\n",
       "    <tr>\n",
       "      <th>79295</th>\n",
       "      <td>2025-03-07</td>\n",
       "      <td>1334</td>\n",
       "      <td>No Pole</td>\n",
       "      <td>Don Toliver</td>\n",
       "    </tr>\n",
       "    <tr>\n",
       "      <th>79296</th>\n",
       "      <td>2025-03-07</td>\n",
       "      <td>1348</td>\n",
       "      <td>Small Town Fame</td>\n",
       "      <td>Drake</td>\n",
       "    </tr>\n",
       "    <tr>\n",
       "      <th>79297</th>\n",
       "      <td>2025-03-07</td>\n",
       "      <td>1362</td>\n",
       "      <td>Que Pasaria...</td>\n",
       "      <td>Rauw Alejandro &amp; Bad Bunny</td>\n",
       "    </tr>\n",
       "    <tr>\n",
       "      <th>79298</th>\n",
       "      <td>2025-03-07</td>\n",
       "      <td>1376</td>\n",
       "      <td>Greenlight</td>\n",
       "      <td>Tate McRae</td>\n",
       "    </tr>\n",
       "    <tr>\n",
       "      <th>79299</th>\n",
       "      <td>2025-03-07</td>\n",
       "      <td>1390</td>\n",
       "      <td>Weren't For The Wind</td>\n",
       "      <td>Ella Langley</td>\n",
       "    </tr>\n",
       "  </tbody>\n",
       "</table>\n",
       "<p>79300 rows × 4 columns</p>\n",
       "</div>"
      ],
      "text/plain": [
       "            Fecha  Posición               Canción                     Artista\n",
       "0      2010-01-01         4               TiK ToK                       Ke$ha\n",
       "1      2010-01-01        18  Empire State Of Mind         Jay-Z + Alicia Keys\n",
       "2      2010-01-01        32           Bad Romance                   Lady Gaga\n",
       "3      2010-01-01        46                Replay                        Iyaz\n",
       "4      2010-01-01        60             Fireflies                    Owl City\n",
       "...           ...       ...                   ...                         ...\n",
       "79295  2025-03-07      1334               No Pole                 Don Toliver\n",
       "79296  2025-03-07      1348       Small Town Fame                       Drake\n",
       "79297  2025-03-07      1362        Que Pasaria...  Rauw Alejandro & Bad Bunny\n",
       "79298  2025-03-07      1376            Greenlight                  Tate McRae\n",
       "79299  2025-03-07      1390  Weren't For The Wind                Ella Langley\n",
       "\n",
       "[79300 rows x 4 columns]"
      ]
     },
     "execution_count": 2,
     "metadata": {},
     "output_type": "execute_result"
    }
   ],
   "source": [
    "df = pd.read_csv(\"C:\\\\Users\\\\Rober\\\\Desktop\\\\PROYECTS\\\\Music Trends Proyect\\\\CSV\\\\billboard_hot100_semanal.csv\")\n",
    "\n",
    "df"
   ]
  },
  {
   "cell_type": "code",
   "execution_count": 7,
   "metadata": {},
   "outputs": [
    {
     "data": {
      "text/plain": [
       "Index(['Fecha', 'Posición', 'Canción', 'Artista'], dtype='object')"
      ]
     },
     "execution_count": 7,
     "metadata": {},
     "output_type": "execute_result"
    }
   ],
   "source": [
    "df.columns"
   ]
  },
  {
   "cell_type": "code",
   "execution_count": 8,
   "metadata": {},
   "outputs": [
    {
     "data": {
      "application/vnd.microsoft.datawrangler.viewer.v0+json": {
       "columns": [
        {
         "name": "index",
         "rawType": "int64",
         "type": "integer"
        },
        {
         "name": "Fecha",
         "rawType": "object",
         "type": "string"
        },
        {
         "name": "Posición",
         "rawType": "int32",
         "type": "integer"
        },
        {
         "name": "Canción",
         "rawType": "object",
         "type": "string"
        },
        {
         "name": "Artista",
         "rawType": "object",
         "type": "string"
        }
       ],
       "conversionMethod": "pd.DataFrame",
       "ref": "5146672f-c3e1-44c9-92e6-a5b4a0bf8a08",
       "rows": [
        [
         "0",
         "2010-01-01",
         "1",
         "TiK ToK",
         "Ke$ha"
        ],
        [
         "1",
         "2010-01-01",
         "2",
         "Empire State Of Mind",
         "Jay-Z + Alicia Keys"
        ],
        [
         "2",
         "2010-01-01",
         "3",
         "Bad Romance",
         "Lady Gaga"
        ],
        [
         "3",
         "2010-01-01",
         "4",
         "Replay",
         "Iyaz"
        ],
        [
         "4",
         "2010-01-01",
         "5",
         "Fireflies",
         "Owl City"
        ],
        [
         "5",
         "2010-01-01",
         "6",
         "Sexy Chick",
         "David Guetta Featuring Akon"
        ],
        [
         "6",
         "2010-01-01",
         "7",
         "Whatcha Say",
         "Jason Derulo"
        ],
        [
         "7",
         "2010-01-01",
         "8",
         "Down",
         "Jay Sean Featuring Lil Wayne"
        ],
        [
         "8",
         "2010-01-01",
         "9",
         "Meet Me Halfway",
         "The Black Eyed Peas"
        ],
        [
         "9",
         "2010-01-01",
         "10",
         "3",
         "Britney Spears"
        ],
        [
         "10",
         "2010-01-01",
         "11",
         "Hard",
         "Rihanna Featuring Jeezy"
        ],
        [
         "11",
         "2010-01-01",
         "12",
         "BedRock",
         "Young Money Featuring Lloyd"
        ],
        [
         "12",
         "2010-01-01",
         "13",
         "How Low",
         "Ludacris"
        ],
        [
         "13",
         "2010-01-01",
         "14",
         "Do You Remember",
         "Jay Sean Featuring Sean Paul & Lil Jon"
        ],
        [
         "14",
         "2010-01-01",
         "15",
         "Paparazzi",
         "Lady Gaga"
        ],
        [
         "15",
         "2010-01-01",
         "16",
         "Forever",
         "Drake Featuring Kanye West, Lil Wayne & Eminem"
        ],
        [
         "16",
         "2010-01-01",
         "17",
         "Sweet Dreams",
         "Beyonce"
        ],
        [
         "17",
         "2010-01-01",
         "18",
         "Already Gone",
         "Kelly Clarkson"
        ],
        [
         "18",
         "2010-01-01",
         "19",
         "Party In The U.S.A.",
         "Miley Cyrus"
        ],
        [
         "19",
         "2010-01-01",
         "20",
         "I Gotta Feeling",
         "The Black Eyed Peas"
        ],
        [
         "20",
         "2010-01-01",
         "21",
         "Need You Now",
         "Lady Antebellum"
        ],
        [
         "21",
         "2010-01-01",
         "22",
         "You Belong With Me",
         "Taylor Swift"
        ],
        [
         "22",
         "2010-01-01",
         "23",
         "Two Is Better Than One",
         "Boys Like Girls Featuring Taylor Swift"
        ],
        [
         "23",
         "2010-01-01",
         "24",
         "I Can Transform Ya",
         "Chris Brown Featuring Lil Wayne & Swizz Beatz"
        ],
        [
         "24",
         "2010-01-01",
         "25",
         "Use Somebody",
         "Kings Of Leon"
        ],
        [
         "25",
         "2010-01-01",
         "26",
         "Money To Blow",
         "Birdman Featuring Lil Wayne & Drake"
        ],
        [
         "26",
         "2010-01-01",
         "27",
         "Try Sleeping With A Broken Heart",
         "Alicia Keys"
        ],
        [
         "27",
         "2010-01-01",
         "28",
         "Evacuate The Dancefloor",
         "Cascada"
        ],
        [
         "28",
         "2010-01-01",
         "29",
         "Hell Breaks Loose",
         "Eminem Featuring Dr. Dre"
        ],
        [
         "29",
         "2010-01-01",
         "30",
         "Fifteen",
         "Taylor Swift"
        ],
        [
         "30",
         "2010-01-01",
         "31",
         "Tie Me Down",
         "New Boyz Featuring Ray J"
        ],
        [
         "31",
         "2010-01-01",
         "32",
         "Hey, Soul Sister",
         "Train"
        ],
        [
         "32",
         "2010-01-01",
         "33",
         "Live Like We're Dying",
         "Kris Allen"
        ],
        [
         "33",
         "2010-01-01",
         "34",
         "Say Aah",
         "Trey Songz Featuring Fabolous"
        ],
        [
         "34",
         "2010-01-01",
         "35",
         "Gangsta Luv",
         "Snoop Dogg Featuring The-Dream"
        ],
        [
         "35",
         "2010-01-01",
         "36",
         "Baby By Me",
         "50 Cent Featuring Ne-Yo"
        ],
        [
         "36",
         "2010-01-01",
         "37",
         "Run This Town",
         "Jay-Z, Rihanna & Kanye West"
        ],
        [
         "37",
         "2010-01-01",
         "38",
         "Telephone",
         "Lady Gaga Featuring Beyonce"
        ],
        [
         "38",
         "2010-01-01",
         "39",
         "Cowboy Casanova",
         "Carrie Underwood"
        ],
        [
         "39",
         "2010-01-01",
         "40",
         "Give It Up To Me",
         "Shakira Featuring Lil Wayne"
        ],
        [
         "40",
         "2010-01-01",
         "41",
         "According To You",
         "Orianthi"
        ],
        [
         "41",
         "2010-01-01",
         "42",
         "I Invented Sex",
         "Trey Songz Featuring Drake"
        ],
        [
         "42",
         "2010-01-01",
         "43",
         "Do I",
         "Luke Bryan"
        ],
        [
         "43",
         "2010-01-01",
         "44",
         "Fallin' For You",
         "Colbie Caillat"
        ],
        [
         "44",
         "2010-01-01",
         "45",
         "Consider Me Gone",
         "Reba"
        ],
        [
         "45",
         "2010-01-01",
         "46",
         "If You Only Knew",
         "Shinedown"
        ],
        [
         "46",
         "2010-01-01",
         "47",
         "One Time",
         "Justin Bieber"
        ],
        [
         "47",
         "2010-01-01",
         "48",
         "The Truth",
         "Jason Aldean"
        ],
        [
         "48",
         "2010-01-01",
         "49",
         "It Kills Me",
         "Melanie Fiona"
        ],
        [
         "49",
         "2010-01-01",
         "50",
         "Southern Voice",
         "Tim McGraw"
        ]
       ],
       "shape": {
        "columns": 4,
        "rows": 79300
       }
      },
      "text/html": [
       "<div>\n",
       "<style scoped>\n",
       "    .dataframe tbody tr th:only-of-type {\n",
       "        vertical-align: middle;\n",
       "    }\n",
       "\n",
       "    .dataframe tbody tr th {\n",
       "        vertical-align: top;\n",
       "    }\n",
       "\n",
       "    .dataframe thead th {\n",
       "        text-align: right;\n",
       "    }\n",
       "</style>\n",
       "<table border=\"1\" class=\"dataframe\">\n",
       "  <thead>\n",
       "    <tr style=\"text-align: right;\">\n",
       "      <th></th>\n",
       "      <th>Fecha</th>\n",
       "      <th>Posición</th>\n",
       "      <th>Canción</th>\n",
       "      <th>Artista</th>\n",
       "    </tr>\n",
       "  </thead>\n",
       "  <tbody>\n",
       "    <tr>\n",
       "      <th>0</th>\n",
       "      <td>2010-01-01</td>\n",
       "      <td>1</td>\n",
       "      <td>TiK ToK</td>\n",
       "      <td>Ke$ha</td>\n",
       "    </tr>\n",
       "    <tr>\n",
       "      <th>1</th>\n",
       "      <td>2010-01-01</td>\n",
       "      <td>2</td>\n",
       "      <td>Empire State Of Mind</td>\n",
       "      <td>Jay-Z + Alicia Keys</td>\n",
       "    </tr>\n",
       "    <tr>\n",
       "      <th>2</th>\n",
       "      <td>2010-01-01</td>\n",
       "      <td>3</td>\n",
       "      <td>Bad Romance</td>\n",
       "      <td>Lady Gaga</td>\n",
       "    </tr>\n",
       "    <tr>\n",
       "      <th>3</th>\n",
       "      <td>2010-01-01</td>\n",
       "      <td>4</td>\n",
       "      <td>Replay</td>\n",
       "      <td>Iyaz</td>\n",
       "    </tr>\n",
       "    <tr>\n",
       "      <th>4</th>\n",
       "      <td>2010-01-01</td>\n",
       "      <td>5</td>\n",
       "      <td>Fireflies</td>\n",
       "      <td>Owl City</td>\n",
       "    </tr>\n",
       "    <tr>\n",
       "      <th>...</th>\n",
       "      <td>...</td>\n",
       "      <td>...</td>\n",
       "      <td>...</td>\n",
       "      <td>...</td>\n",
       "    </tr>\n",
       "    <tr>\n",
       "      <th>79295</th>\n",
       "      <td>2025-03-07</td>\n",
       "      <td>96</td>\n",
       "      <td>No Pole</td>\n",
       "      <td>Don Toliver</td>\n",
       "    </tr>\n",
       "    <tr>\n",
       "      <th>79296</th>\n",
       "      <td>2025-03-07</td>\n",
       "      <td>97</td>\n",
       "      <td>Small Town Fame</td>\n",
       "      <td>Drake</td>\n",
       "    </tr>\n",
       "    <tr>\n",
       "      <th>79297</th>\n",
       "      <td>2025-03-07</td>\n",
       "      <td>98</td>\n",
       "      <td>Que Pasaria...</td>\n",
       "      <td>Rauw Alejandro &amp; Bad Bunny</td>\n",
       "    </tr>\n",
       "    <tr>\n",
       "      <th>79298</th>\n",
       "      <td>2025-03-07</td>\n",
       "      <td>99</td>\n",
       "      <td>Greenlight</td>\n",
       "      <td>Tate McRae</td>\n",
       "    </tr>\n",
       "    <tr>\n",
       "      <th>79299</th>\n",
       "      <td>2025-03-07</td>\n",
       "      <td>100</td>\n",
       "      <td>Weren't For The Wind</td>\n",
       "      <td>Ella Langley</td>\n",
       "    </tr>\n",
       "  </tbody>\n",
       "</table>\n",
       "<p>79300 rows × 4 columns</p>\n",
       "</div>"
      ],
      "text/plain": [
       "            Fecha  Posición               Canción                     Artista\n",
       "0      2010-01-01         1               TiK ToK                       Ke$ha\n",
       "1      2010-01-01         2  Empire State Of Mind         Jay-Z + Alicia Keys\n",
       "2      2010-01-01         3           Bad Romance                   Lady Gaga\n",
       "3      2010-01-01         4                Replay                        Iyaz\n",
       "4      2010-01-01         5             Fireflies                    Owl City\n",
       "...           ...       ...                   ...                         ...\n",
       "79295  2025-03-07        96               No Pole                 Don Toliver\n",
       "79296  2025-03-07        97       Small Town Fame                       Drake\n",
       "79297  2025-03-07        98        Que Pasaria...  Rauw Alejandro & Bad Bunny\n",
       "79298  2025-03-07        99            Greenlight                  Tate McRae\n",
       "79299  2025-03-07       100  Weren't For The Wind                Ella Langley\n",
       "\n",
       "[79300 rows x 4 columns]"
      ]
     },
     "execution_count": 8,
     "metadata": {},
     "output_type": "execute_result"
    }
   ],
   "source": [
    "import pandas as pd\n",
    "\n",
    "# Cargar el CSV\n",
    "df = pd.read_csv(\"C:\\\\Users\\\\Rober\\\\Desktop\\\\PROYECTS\\\\Music Trends Proyect\\\\CSV\\\\billboard_hot100_semanal.csv\")\n",
    "\n",
    "# Asegurar que la columna de posición es numérica (por si hay valores extraños)\n",
    "df['Posición'] = pd.to_numeric(df['Posición'], errors='coerce')\n",
    "\n",
    "# Reasignar posiciones dentro de cada fecha\n",
    "df['Posición'] = df.groupby('Fecha')['Posición'].rank(method='first', ascending=True).astype(int)\n",
    "\n",
    "df\n"
   ]
  },
  {
   "cell_type": "code",
   "execution_count": 11,
   "metadata": {},
   "outputs": [],
   "source": [
    "df.rename(columns={'Fecha': 'Date'}, inplace=True)  \n",
    "df.rename(columns={'Posición': 'Position'}, inplace=True) \n",
    "df.rename(columns={'Canción': 'Song'}, inplace=True)  \n",
    "df.rename(columns={'Artista': 'Artist'}, inplace=True)  \n"
   ]
  },
  {
   "cell_type": "code",
   "execution_count": 12,
   "metadata": {},
   "outputs": [
    {
     "data": {
      "application/vnd.microsoft.datawrangler.viewer.v0+json": {
       "columns": [
        {
         "name": "index",
         "rawType": "int64",
         "type": "integer"
        },
        {
         "name": "Date",
         "rawType": "object",
         "type": "string"
        },
        {
         "name": "Position",
         "rawType": "int32",
         "type": "integer"
        },
        {
         "name": "Song",
         "rawType": "object",
         "type": "string"
        },
        {
         "name": "Artist",
         "rawType": "object",
         "type": "string"
        }
       ],
       "conversionMethod": "pd.DataFrame",
       "ref": "49c5a90a-15ba-4c55-b68e-d0df0337e06e",
       "rows": [
        [
         "0",
         "2010-01-01",
         "1",
         "TiK ToK",
         "Ke$ha"
        ],
        [
         "1",
         "2010-01-01",
         "2",
         "Empire State Of Mind",
         "Jay-Z + Alicia Keys"
        ],
        [
         "2",
         "2010-01-01",
         "3",
         "Bad Romance",
         "Lady Gaga"
        ],
        [
         "3",
         "2010-01-01",
         "4",
         "Replay",
         "Iyaz"
        ],
        [
         "4",
         "2010-01-01",
         "5",
         "Fireflies",
         "Owl City"
        ],
        [
         "5",
         "2010-01-01",
         "6",
         "Sexy Chick",
         "David Guetta Featuring Akon"
        ],
        [
         "6",
         "2010-01-01",
         "7",
         "Whatcha Say",
         "Jason Derulo"
        ],
        [
         "7",
         "2010-01-01",
         "8",
         "Down",
         "Jay Sean Featuring Lil Wayne"
        ],
        [
         "8",
         "2010-01-01",
         "9",
         "Meet Me Halfway",
         "The Black Eyed Peas"
        ],
        [
         "9",
         "2010-01-01",
         "10",
         "3",
         "Britney Spears"
        ],
        [
         "10",
         "2010-01-01",
         "11",
         "Hard",
         "Rihanna Featuring Jeezy"
        ],
        [
         "11",
         "2010-01-01",
         "12",
         "BedRock",
         "Young Money Featuring Lloyd"
        ],
        [
         "12",
         "2010-01-01",
         "13",
         "How Low",
         "Ludacris"
        ],
        [
         "13",
         "2010-01-01",
         "14",
         "Do You Remember",
         "Jay Sean Featuring Sean Paul & Lil Jon"
        ],
        [
         "14",
         "2010-01-01",
         "15",
         "Paparazzi",
         "Lady Gaga"
        ],
        [
         "15",
         "2010-01-01",
         "16",
         "Forever",
         "Drake Featuring Kanye West, Lil Wayne & Eminem"
        ],
        [
         "16",
         "2010-01-01",
         "17",
         "Sweet Dreams",
         "Beyonce"
        ],
        [
         "17",
         "2010-01-01",
         "18",
         "Already Gone",
         "Kelly Clarkson"
        ],
        [
         "18",
         "2010-01-01",
         "19",
         "Party In The U.S.A.",
         "Miley Cyrus"
        ],
        [
         "19",
         "2010-01-01",
         "20",
         "I Gotta Feeling",
         "The Black Eyed Peas"
        ],
        [
         "20",
         "2010-01-01",
         "21",
         "Need You Now",
         "Lady Antebellum"
        ],
        [
         "21",
         "2010-01-01",
         "22",
         "You Belong With Me",
         "Taylor Swift"
        ],
        [
         "22",
         "2010-01-01",
         "23",
         "Two Is Better Than One",
         "Boys Like Girls Featuring Taylor Swift"
        ],
        [
         "23",
         "2010-01-01",
         "24",
         "I Can Transform Ya",
         "Chris Brown Featuring Lil Wayne & Swizz Beatz"
        ],
        [
         "24",
         "2010-01-01",
         "25",
         "Use Somebody",
         "Kings Of Leon"
        ],
        [
         "25",
         "2010-01-01",
         "26",
         "Money To Blow",
         "Birdman Featuring Lil Wayne & Drake"
        ],
        [
         "26",
         "2010-01-01",
         "27",
         "Try Sleeping With A Broken Heart",
         "Alicia Keys"
        ],
        [
         "27",
         "2010-01-01",
         "28",
         "Evacuate The Dancefloor",
         "Cascada"
        ],
        [
         "28",
         "2010-01-01",
         "29",
         "Hell Breaks Loose",
         "Eminem Featuring Dr. Dre"
        ],
        [
         "29",
         "2010-01-01",
         "30",
         "Fifteen",
         "Taylor Swift"
        ],
        [
         "30",
         "2010-01-01",
         "31",
         "Tie Me Down",
         "New Boyz Featuring Ray J"
        ],
        [
         "31",
         "2010-01-01",
         "32",
         "Hey, Soul Sister",
         "Train"
        ],
        [
         "32",
         "2010-01-01",
         "33",
         "Live Like We're Dying",
         "Kris Allen"
        ],
        [
         "33",
         "2010-01-01",
         "34",
         "Say Aah",
         "Trey Songz Featuring Fabolous"
        ],
        [
         "34",
         "2010-01-01",
         "35",
         "Gangsta Luv",
         "Snoop Dogg Featuring The-Dream"
        ],
        [
         "35",
         "2010-01-01",
         "36",
         "Baby By Me",
         "50 Cent Featuring Ne-Yo"
        ],
        [
         "36",
         "2010-01-01",
         "37",
         "Run This Town",
         "Jay-Z, Rihanna & Kanye West"
        ],
        [
         "37",
         "2010-01-01",
         "38",
         "Telephone",
         "Lady Gaga Featuring Beyonce"
        ],
        [
         "38",
         "2010-01-01",
         "39",
         "Cowboy Casanova",
         "Carrie Underwood"
        ],
        [
         "39",
         "2010-01-01",
         "40",
         "Give It Up To Me",
         "Shakira Featuring Lil Wayne"
        ],
        [
         "40",
         "2010-01-01",
         "41",
         "According To You",
         "Orianthi"
        ],
        [
         "41",
         "2010-01-01",
         "42",
         "I Invented Sex",
         "Trey Songz Featuring Drake"
        ],
        [
         "42",
         "2010-01-01",
         "43",
         "Do I",
         "Luke Bryan"
        ],
        [
         "43",
         "2010-01-01",
         "44",
         "Fallin' For You",
         "Colbie Caillat"
        ],
        [
         "44",
         "2010-01-01",
         "45",
         "Consider Me Gone",
         "Reba"
        ],
        [
         "45",
         "2010-01-01",
         "46",
         "If You Only Knew",
         "Shinedown"
        ],
        [
         "46",
         "2010-01-01",
         "47",
         "One Time",
         "Justin Bieber"
        ],
        [
         "47",
         "2010-01-01",
         "48",
         "The Truth",
         "Jason Aldean"
        ],
        [
         "48",
         "2010-01-01",
         "49",
         "It Kills Me",
         "Melanie Fiona"
        ],
        [
         "49",
         "2010-01-01",
         "50",
         "Southern Voice",
         "Tim McGraw"
        ]
       ],
       "shape": {
        "columns": 4,
        "rows": 79300
       }
      },
      "text/html": [
       "<div>\n",
       "<style scoped>\n",
       "    .dataframe tbody tr th:only-of-type {\n",
       "        vertical-align: middle;\n",
       "    }\n",
       "\n",
       "    .dataframe tbody tr th {\n",
       "        vertical-align: top;\n",
       "    }\n",
       "\n",
       "    .dataframe thead th {\n",
       "        text-align: right;\n",
       "    }\n",
       "</style>\n",
       "<table border=\"1\" class=\"dataframe\">\n",
       "  <thead>\n",
       "    <tr style=\"text-align: right;\">\n",
       "      <th></th>\n",
       "      <th>Date</th>\n",
       "      <th>Position</th>\n",
       "      <th>Song</th>\n",
       "      <th>Artist</th>\n",
       "    </tr>\n",
       "  </thead>\n",
       "  <tbody>\n",
       "    <tr>\n",
       "      <th>0</th>\n",
       "      <td>2010-01-01</td>\n",
       "      <td>1</td>\n",
       "      <td>TiK ToK</td>\n",
       "      <td>Ke$ha</td>\n",
       "    </tr>\n",
       "    <tr>\n",
       "      <th>1</th>\n",
       "      <td>2010-01-01</td>\n",
       "      <td>2</td>\n",
       "      <td>Empire State Of Mind</td>\n",
       "      <td>Jay-Z + Alicia Keys</td>\n",
       "    </tr>\n",
       "    <tr>\n",
       "      <th>2</th>\n",
       "      <td>2010-01-01</td>\n",
       "      <td>3</td>\n",
       "      <td>Bad Romance</td>\n",
       "      <td>Lady Gaga</td>\n",
       "    </tr>\n",
       "    <tr>\n",
       "      <th>3</th>\n",
       "      <td>2010-01-01</td>\n",
       "      <td>4</td>\n",
       "      <td>Replay</td>\n",
       "      <td>Iyaz</td>\n",
       "    </tr>\n",
       "    <tr>\n",
       "      <th>4</th>\n",
       "      <td>2010-01-01</td>\n",
       "      <td>5</td>\n",
       "      <td>Fireflies</td>\n",
       "      <td>Owl City</td>\n",
       "    </tr>\n",
       "    <tr>\n",
       "      <th>...</th>\n",
       "      <td>...</td>\n",
       "      <td>...</td>\n",
       "      <td>...</td>\n",
       "      <td>...</td>\n",
       "    </tr>\n",
       "    <tr>\n",
       "      <th>79295</th>\n",
       "      <td>2025-03-07</td>\n",
       "      <td>96</td>\n",
       "      <td>No Pole</td>\n",
       "      <td>Don Toliver</td>\n",
       "    </tr>\n",
       "    <tr>\n",
       "      <th>79296</th>\n",
       "      <td>2025-03-07</td>\n",
       "      <td>97</td>\n",
       "      <td>Small Town Fame</td>\n",
       "      <td>Drake</td>\n",
       "    </tr>\n",
       "    <tr>\n",
       "      <th>79297</th>\n",
       "      <td>2025-03-07</td>\n",
       "      <td>98</td>\n",
       "      <td>Que Pasaria...</td>\n",
       "      <td>Rauw Alejandro &amp; Bad Bunny</td>\n",
       "    </tr>\n",
       "    <tr>\n",
       "      <th>79298</th>\n",
       "      <td>2025-03-07</td>\n",
       "      <td>99</td>\n",
       "      <td>Greenlight</td>\n",
       "      <td>Tate McRae</td>\n",
       "    </tr>\n",
       "    <tr>\n",
       "      <th>79299</th>\n",
       "      <td>2025-03-07</td>\n",
       "      <td>100</td>\n",
       "      <td>Weren't For The Wind</td>\n",
       "      <td>Ella Langley</td>\n",
       "    </tr>\n",
       "  </tbody>\n",
       "</table>\n",
       "<p>79300 rows × 4 columns</p>\n",
       "</div>"
      ],
      "text/plain": [
       "             Date  Position                  Song                      Artist\n",
       "0      2010-01-01         1               TiK ToK                       Ke$ha\n",
       "1      2010-01-01         2  Empire State Of Mind         Jay-Z + Alicia Keys\n",
       "2      2010-01-01         3           Bad Romance                   Lady Gaga\n",
       "3      2010-01-01         4                Replay                        Iyaz\n",
       "4      2010-01-01         5             Fireflies                    Owl City\n",
       "...           ...       ...                   ...                         ...\n",
       "79295  2025-03-07        96               No Pole                 Don Toliver\n",
       "79296  2025-03-07        97       Small Town Fame                       Drake\n",
       "79297  2025-03-07        98        Que Pasaria...  Rauw Alejandro & Bad Bunny\n",
       "79298  2025-03-07        99            Greenlight                  Tate McRae\n",
       "79299  2025-03-07       100  Weren't For The Wind                Ella Langley\n",
       "\n",
       "[79300 rows x 4 columns]"
      ]
     },
     "execution_count": 12,
     "metadata": {},
     "output_type": "execute_result"
    }
   ],
   "source": [
    "df"
   ]
  },
  {
   "cell_type": "markdown",
   "metadata": {},
   "source": [
    "### Cleaning Genders "
   ]
  },
  {
   "cell_type": "code",
   "execution_count": 21,
   "metadata": {},
   "outputs": [
    {
     "data": {
      "application/vnd.microsoft.datawrangler.viewer.v0+json": {
       "columns": [
        {
         "name": "index",
         "rawType": "int64",
         "type": "integer"
        },
        {
         "name": "Unnamed: 0",
         "rawType": "int64",
         "type": "integer"
        },
        {
         "name": "año",
         "rawType": "int64",
         "type": "integer"
        },
        {
         "name": "genero_general",
         "rawType": "object",
         "type": "string"
        },
        {
         "name": "frecuencia",
         "rawType": "int64",
         "type": "integer"
        }
       ],
       "conversionMethod": "pd.DataFrame",
       "ref": "49f327f7-2112-4461-b4a3-1d3c4fd37ded",
       "rows": [
        [
         "0",
         "0",
         "2010",
         "electrónica",
         "3"
        ],
        [
         "1",
         "1",
         "2010",
         "hip-hop",
         "9"
        ],
        [
         "2",
         "2",
         "2010",
         "indie",
         "2"
        ],
        [
         "3",
         "3",
         "2010",
         "latino",
         "2"
        ],
        [
         "4",
         "4",
         "2010",
         "metal",
         "1"
        ],
        [
         "5",
         "5",
         "2010",
         "pop",
         "25"
        ],
        [
         "6",
         "6",
         "2010",
         "r&b",
         "2"
        ],
        [
         "7",
         "7",
         "2010",
         "rock",
         "3"
        ],
        [
         "8",
         "8",
         "2010",
         "samba",
         "3"
        ],
        [
         "9",
         "9",
         "2011",
         "Otros",
         "1"
        ],
        [
         "10",
         "10",
         "2011",
         "blues",
         "1"
        ],
        [
         "11",
         "11",
         "2011",
         "clásica",
         "1"
        ],
        [
         "12",
         "12",
         "2011",
         "country",
         "1"
        ],
        [
         "13",
         "13",
         "2011",
         "electrónica",
         "4"
        ],
        [
         "14",
         "14",
         "2011",
         "folk",
         "1"
        ],
        [
         "15",
         "15",
         "2011",
         "hip-hop",
         "9"
        ],
        [
         "16",
         "16",
         "2011",
         "indie",
         "2"
        ],
        [
         "17",
         "17",
         "2011",
         "k-pop",
         "1"
        ],
        [
         "18",
         "18",
         "2011",
         "latino",
         "4"
        ],
        [
         "19",
         "19",
         "2011",
         "metal",
         "2"
        ],
        [
         "20",
         "20",
         "2011",
         "pop",
         "11"
        ],
        [
         "21",
         "21",
         "2011",
         "r&b",
         "2"
        ],
        [
         "22",
         "22",
         "2011",
         "reggae",
         "1"
        ],
        [
         "23",
         "23",
         "2011",
         "rock",
         "7"
        ],
        [
         "24",
         "24",
         "2011",
         "samba",
         "2"
        ],
        [
         "25",
         "25",
         "2012",
         "Otros",
         "3"
        ],
        [
         "26",
         "26",
         "2012",
         "blues",
         "2"
        ],
        [
         "27",
         "27",
         "2012",
         "bollywood",
         "3"
        ],
        [
         "28",
         "28",
         "2012",
         "dance",
         "1"
        ],
        [
         "29",
         "29",
         "2012",
         "electrónica",
         "1"
        ],
        [
         "30",
         "30",
         "2012",
         "flamenco",
         "1"
        ],
        [
         "31",
         "31",
         "2012",
         "folk",
         "4"
        ],
        [
         "32",
         "32",
         "2012",
         "hip-hop",
         "9"
        ],
        [
         "33",
         "33",
         "2012",
         "indie",
         "2"
        ],
        [
         "34",
         "34",
         "2012",
         "k-pop",
         "1"
        ],
        [
         "35",
         "35",
         "2012",
         "latino",
         "3"
        ],
        [
         "36",
         "36",
         "2012",
         "metal",
         "1"
        ],
        [
         "37",
         "37",
         "2012",
         "pop",
         "9"
        ],
        [
         "38",
         "38",
         "2012",
         "r&b",
         "3"
        ],
        [
         "39",
         "39",
         "2012",
         "reggae",
         "1"
        ],
        [
         "40",
         "40",
         "2012",
         "rock",
         "6"
        ],
        [
         "41",
         "41",
         "2013",
         "Otros",
         "3"
        ],
        [
         "42",
         "42",
         "2013",
         "dance",
         "2"
        ],
        [
         "43",
         "43",
         "2013",
         "electrónica",
         "4"
        ],
        [
         "44",
         "44",
         "2013",
         "folk",
         "2"
        ],
        [
         "45",
         "45",
         "2013",
         "hip-hop",
         "4"
        ],
        [
         "46",
         "46",
         "2013",
         "indie",
         "12"
        ],
        [
         "47",
         "47",
         "2013",
         "k-pop",
         "2"
        ],
        [
         "48",
         "48",
         "2013",
         "metal",
         "2"
        ],
        [
         "49",
         "49",
         "2013",
         "pop",
         "7"
        ]
       ],
       "shape": {
        "columns": 4,
        "rows": 203
       }
      },
      "text/html": [
       "<div>\n",
       "<style scoped>\n",
       "    .dataframe tbody tr th:only-of-type {\n",
       "        vertical-align: middle;\n",
       "    }\n",
       "\n",
       "    .dataframe tbody tr th {\n",
       "        vertical-align: top;\n",
       "    }\n",
       "\n",
       "    .dataframe thead th {\n",
       "        text-align: right;\n",
       "    }\n",
       "</style>\n",
       "<table border=\"1\" class=\"dataframe\">\n",
       "  <thead>\n",
       "    <tr style=\"text-align: right;\">\n",
       "      <th></th>\n",
       "      <th>Unnamed: 0</th>\n",
       "      <th>año</th>\n",
       "      <th>genero_general</th>\n",
       "      <th>frecuencia</th>\n",
       "    </tr>\n",
       "  </thead>\n",
       "  <tbody>\n",
       "    <tr>\n",
       "      <th>0</th>\n",
       "      <td>0</td>\n",
       "      <td>2010</td>\n",
       "      <td>electrónica</td>\n",
       "      <td>3</td>\n",
       "    </tr>\n",
       "    <tr>\n",
       "      <th>1</th>\n",
       "      <td>1</td>\n",
       "      <td>2010</td>\n",
       "      <td>hip-hop</td>\n",
       "      <td>9</td>\n",
       "    </tr>\n",
       "    <tr>\n",
       "      <th>2</th>\n",
       "      <td>2</td>\n",
       "      <td>2010</td>\n",
       "      <td>indie</td>\n",
       "      <td>2</td>\n",
       "    </tr>\n",
       "    <tr>\n",
       "      <th>3</th>\n",
       "      <td>3</td>\n",
       "      <td>2010</td>\n",
       "      <td>latino</td>\n",
       "      <td>2</td>\n",
       "    </tr>\n",
       "    <tr>\n",
       "      <th>4</th>\n",
       "      <td>4</td>\n",
       "      <td>2010</td>\n",
       "      <td>metal</td>\n",
       "      <td>1</td>\n",
       "    </tr>\n",
       "    <tr>\n",
       "      <th>...</th>\n",
       "      <td>...</td>\n",
       "      <td>...</td>\n",
       "      <td>...</td>\n",
       "      <td>...</td>\n",
       "    </tr>\n",
       "    <tr>\n",
       "      <th>198</th>\n",
       "      <td>198</td>\n",
       "      <td>2025</td>\n",
       "      <td>latino</td>\n",
       "      <td>1</td>\n",
       "    </tr>\n",
       "    <tr>\n",
       "      <th>199</th>\n",
       "      <td>199</td>\n",
       "      <td>2025</td>\n",
       "      <td>metal</td>\n",
       "      <td>1</td>\n",
       "    </tr>\n",
       "    <tr>\n",
       "      <th>200</th>\n",
       "      <td>200</td>\n",
       "      <td>2025</td>\n",
       "      <td>pop</td>\n",
       "      <td>22</td>\n",
       "    </tr>\n",
       "    <tr>\n",
       "      <th>201</th>\n",
       "      <td>201</td>\n",
       "      <td>2025</td>\n",
       "      <td>r&amp;b</td>\n",
       "      <td>2</td>\n",
       "    </tr>\n",
       "    <tr>\n",
       "      <th>202</th>\n",
       "      <td>202</td>\n",
       "      <td>2025</td>\n",
       "      <td>rock</td>\n",
       "      <td>1</td>\n",
       "    </tr>\n",
       "  </tbody>\n",
       "</table>\n",
       "<p>203 rows × 4 columns</p>\n",
       "</div>"
      ],
      "text/plain": [
       "     Unnamed: 0   año genero_general  frecuencia\n",
       "0             0  2010    electrónica           3\n",
       "1             1  2010        hip-hop           9\n",
       "2             2  2010          indie           2\n",
       "3             3  2010         latino           2\n",
       "4             4  2010          metal           1\n",
       "..          ...   ...            ...         ...\n",
       "198         198  2025         latino           1\n",
       "199         199  2025          metal           1\n",
       "200         200  2025            pop          22\n",
       "201         201  2025            r&b           2\n",
       "202         202  2025           rock           1\n",
       "\n",
       "[203 rows x 4 columns]"
      ]
     },
     "execution_count": 21,
     "metadata": {},
     "output_type": "execute_result"
    }
   ],
   "source": [
    "df_generos = pd.read_csv(\"C:\\\\Users\\\\Rober\\\\Desktop\\\\PROYECTS\\\\Music Trends Proyect\\\\CSV\\\\Datamatrix_genres.csv\")\n",
    "df_generos"
   ]
  },
  {
   "cell_type": "code",
   "execution_count": 25,
   "metadata": {},
   "outputs": [
    {
     "data": {
      "application/vnd.microsoft.datawrangler.viewer.v0+json": {
       "columns": [
        {
         "name": "index",
         "rawType": "int64",
         "type": "integer"
        },
        {
         "name": "año",
         "rawType": "int64",
         "type": "integer"
        },
        {
         "name": "genero_general",
         "rawType": "object",
         "type": "string"
        },
        {
         "name": "frecuencia",
         "rawType": "int64",
         "type": "integer"
        }
       ],
       "conversionMethod": "pd.DataFrame",
       "ref": "72094fee-b998-4952-8c2c-da1f6b5a952f",
       "rows": [
        [
         "0",
         "2010",
         "electrónica",
         "3"
        ],
        [
         "1",
         "2010",
         "hip-hop",
         "9"
        ],
        [
         "2",
         "2010",
         "indie",
         "2"
        ],
        [
         "3",
         "2010",
         "latino",
         "2"
        ],
        [
         "4",
         "2010",
         "metal",
         "1"
        ],
        [
         "5",
         "2010",
         "pop",
         "25"
        ],
        [
         "6",
         "2010",
         "r&b",
         "2"
        ],
        [
         "7",
         "2010",
         "rock",
         "3"
        ],
        [
         "8",
         "2010",
         "samba",
         "3"
        ],
        [
         "9",
         "2011",
         "Otros",
         "1"
        ],
        [
         "10",
         "2011",
         "blues",
         "1"
        ],
        [
         "11",
         "2011",
         "clásica",
         "1"
        ],
        [
         "12",
         "2011",
         "country",
         "1"
        ],
        [
         "13",
         "2011",
         "electrónica",
         "4"
        ],
        [
         "14",
         "2011",
         "folk",
         "1"
        ],
        [
         "15",
         "2011",
         "hip-hop",
         "9"
        ],
        [
         "16",
         "2011",
         "indie",
         "2"
        ],
        [
         "17",
         "2011",
         "k-pop",
         "1"
        ],
        [
         "18",
         "2011",
         "latino",
         "4"
        ],
        [
         "19",
         "2011",
         "metal",
         "2"
        ],
        [
         "20",
         "2011",
         "pop",
         "11"
        ],
        [
         "21",
         "2011",
         "r&b",
         "2"
        ],
        [
         "22",
         "2011",
         "reggae",
         "1"
        ],
        [
         "23",
         "2011",
         "rock",
         "7"
        ],
        [
         "24",
         "2011",
         "samba",
         "2"
        ],
        [
         "25",
         "2012",
         "Otros",
         "3"
        ],
        [
         "26",
         "2012",
         "blues",
         "2"
        ],
        [
         "27",
         "2012",
         "bollywood",
         "3"
        ],
        [
         "28",
         "2012",
         "dance",
         "1"
        ],
        [
         "29",
         "2012",
         "electrónica",
         "1"
        ],
        [
         "30",
         "2012",
         "flamenco",
         "1"
        ],
        [
         "31",
         "2012",
         "folk",
         "4"
        ],
        [
         "32",
         "2012",
         "hip-hop",
         "9"
        ],
        [
         "33",
         "2012",
         "indie",
         "2"
        ],
        [
         "34",
         "2012",
         "k-pop",
         "1"
        ],
        [
         "35",
         "2012",
         "latino",
         "3"
        ],
        [
         "36",
         "2012",
         "metal",
         "1"
        ],
        [
         "37",
         "2012",
         "pop",
         "9"
        ],
        [
         "38",
         "2012",
         "r&b",
         "3"
        ],
        [
         "39",
         "2012",
         "reggae",
         "1"
        ],
        [
         "40",
         "2012",
         "rock",
         "6"
        ],
        [
         "41",
         "2013",
         "Otros",
         "3"
        ],
        [
         "42",
         "2013",
         "dance",
         "2"
        ],
        [
         "43",
         "2013",
         "electrónica",
         "4"
        ],
        [
         "44",
         "2013",
         "folk",
         "2"
        ],
        [
         "45",
         "2013",
         "hip-hop",
         "4"
        ],
        [
         "46",
         "2013",
         "indie",
         "12"
        ],
        [
         "47",
         "2013",
         "k-pop",
         "2"
        ],
        [
         "48",
         "2013",
         "metal",
         "2"
        ],
        [
         "49",
         "2013",
         "pop",
         "7"
        ]
       ],
       "shape": {
        "columns": 3,
        "rows": 203
       }
      },
      "text/html": [
       "<div>\n",
       "<style scoped>\n",
       "    .dataframe tbody tr th:only-of-type {\n",
       "        vertical-align: middle;\n",
       "    }\n",
       "\n",
       "    .dataframe tbody tr th {\n",
       "        vertical-align: top;\n",
       "    }\n",
       "\n",
       "    .dataframe thead th {\n",
       "        text-align: right;\n",
       "    }\n",
       "</style>\n",
       "<table border=\"1\" class=\"dataframe\">\n",
       "  <thead>\n",
       "    <tr style=\"text-align: right;\">\n",
       "      <th></th>\n",
       "      <th>año</th>\n",
       "      <th>genero_general</th>\n",
       "      <th>frecuencia</th>\n",
       "    </tr>\n",
       "  </thead>\n",
       "  <tbody>\n",
       "    <tr>\n",
       "      <th>0</th>\n",
       "      <td>2010</td>\n",
       "      <td>electrónica</td>\n",
       "      <td>3</td>\n",
       "    </tr>\n",
       "    <tr>\n",
       "      <th>1</th>\n",
       "      <td>2010</td>\n",
       "      <td>hip-hop</td>\n",
       "      <td>9</td>\n",
       "    </tr>\n",
       "    <tr>\n",
       "      <th>2</th>\n",
       "      <td>2010</td>\n",
       "      <td>indie</td>\n",
       "      <td>2</td>\n",
       "    </tr>\n",
       "    <tr>\n",
       "      <th>3</th>\n",
       "      <td>2010</td>\n",
       "      <td>latino</td>\n",
       "      <td>2</td>\n",
       "    </tr>\n",
       "    <tr>\n",
       "      <th>4</th>\n",
       "      <td>2010</td>\n",
       "      <td>metal</td>\n",
       "      <td>1</td>\n",
       "    </tr>\n",
       "    <tr>\n",
       "      <th>...</th>\n",
       "      <td>...</td>\n",
       "      <td>...</td>\n",
       "      <td>...</td>\n",
       "    </tr>\n",
       "    <tr>\n",
       "      <th>198</th>\n",
       "      <td>2025</td>\n",
       "      <td>latino</td>\n",
       "      <td>1</td>\n",
       "    </tr>\n",
       "    <tr>\n",
       "      <th>199</th>\n",
       "      <td>2025</td>\n",
       "      <td>metal</td>\n",
       "      <td>1</td>\n",
       "    </tr>\n",
       "    <tr>\n",
       "      <th>200</th>\n",
       "      <td>2025</td>\n",
       "      <td>pop</td>\n",
       "      <td>22</td>\n",
       "    </tr>\n",
       "    <tr>\n",
       "      <th>201</th>\n",
       "      <td>2025</td>\n",
       "      <td>r&amp;b</td>\n",
       "      <td>2</td>\n",
       "    </tr>\n",
       "    <tr>\n",
       "      <th>202</th>\n",
       "      <td>2025</td>\n",
       "      <td>rock</td>\n",
       "      <td>1</td>\n",
       "    </tr>\n",
       "  </tbody>\n",
       "</table>\n",
       "<p>203 rows × 3 columns</p>\n",
       "</div>"
      ],
      "text/plain": [
       "      año genero_general  frecuencia\n",
       "0    2010    electrónica           3\n",
       "1    2010        hip-hop           9\n",
       "2    2010          indie           2\n",
       "3    2010         latino           2\n",
       "4    2010          metal           1\n",
       "..    ...            ...         ...\n",
       "198  2025         latino           1\n",
       "199  2025          metal           1\n",
       "200  2025            pop          22\n",
       "201  2025            r&b           2\n",
       "202  2025           rock           1\n",
       "\n",
       "[203 rows x 3 columns]"
      ]
     },
     "execution_count": 25,
     "metadata": {},
     "output_type": "execute_result"
    }
   ],
   "source": [
    "df_generos = df_generos.drop(columns=[\"Unnamed: 0\"])\n",
    "df_generos"
   ]
  },
  {
   "cell_type": "code",
   "execution_count": 26,
   "metadata": {},
   "outputs": [],
   "source": [
    "df_generos.rename(columns={\"año\" : \"Year\"}, inplace = True)\n",
    "df_generos.rename(columns={\"genero_general\" : \"Genre\"}, inplace = True)\n",
    "df_generos.rename(columns={\"frecuencia\" : \"Frecuency\"}, inplace = True)"
   ]
  },
  {
   "cell_type": "code",
   "execution_count": 28,
   "metadata": {},
   "outputs": [
    {
     "data": {
      "application/vnd.microsoft.datawrangler.viewer.v0+json": {
       "columns": [
        {
         "name": "index",
         "rawType": "int64",
         "type": "integer"
        },
        {
         "name": "Year",
         "rawType": "int64",
         "type": "integer"
        },
        {
         "name": "Genre",
         "rawType": "object",
         "type": "string"
        },
        {
         "name": "Frecuency",
         "rawType": "int64",
         "type": "integer"
        }
       ],
       "conversionMethod": "pd.DataFrame",
       "ref": "6bfad29d-ec26-4a74-8b68-134131437f8c",
       "rows": [
        [
         "0",
         "2010",
         "pop",
         "25"
        ],
        [
         "1",
         "2010",
         "hip-hop",
         "9"
        ],
        [
         "2",
         "2010",
         "electrónica",
         "3"
        ],
        [
         "3",
         "2010",
         "rock",
         "3"
        ],
        [
         "4",
         "2010",
         "samba",
         "3"
        ],
        [
         "5",
         "2010",
         "indie",
         "2"
        ],
        [
         "6",
         "2010",
         "latino",
         "2"
        ],
        [
         "7",
         "2010",
         "r&b",
         "2"
        ],
        [
         "8",
         "2010",
         "metal",
         "1"
        ],
        [
         "9",
         "2011",
         "pop",
         "11"
        ],
        [
         "10",
         "2011",
         "hip-hop",
         "9"
        ],
        [
         "11",
         "2011",
         "rock",
         "7"
        ],
        [
         "12",
         "2011",
         "electrónica",
         "4"
        ],
        [
         "13",
         "2011",
         "latino",
         "4"
        ],
        [
         "14",
         "2011",
         "indie",
         "2"
        ],
        [
         "15",
         "2011",
         "metal",
         "2"
        ],
        [
         "16",
         "2011",
         "r&b",
         "2"
        ],
        [
         "17",
         "2011",
         "samba",
         "2"
        ],
        [
         "18",
         "2011",
         "Otros",
         "1"
        ],
        [
         "19",
         "2011",
         "blues",
         "1"
        ],
        [
         "20",
         "2011",
         "clásica",
         "1"
        ],
        [
         "21",
         "2011",
         "country",
         "1"
        ],
        [
         "22",
         "2011",
         "folk",
         "1"
        ],
        [
         "23",
         "2011",
         "k-pop",
         "1"
        ],
        [
         "24",
         "2011",
         "reggae",
         "1"
        ],
        [
         "25",
         "2012",
         "hip-hop",
         "9"
        ],
        [
         "26",
         "2012",
         "pop",
         "9"
        ],
        [
         "27",
         "2012",
         "rock",
         "6"
        ],
        [
         "28",
         "2012",
         "folk",
         "4"
        ],
        [
         "29",
         "2012",
         "Otros",
         "3"
        ],
        [
         "30",
         "2012",
         "bollywood",
         "3"
        ],
        [
         "31",
         "2012",
         "latino",
         "3"
        ],
        [
         "32",
         "2012",
         "r&b",
         "3"
        ],
        [
         "33",
         "2012",
         "blues",
         "2"
        ],
        [
         "34",
         "2012",
         "indie",
         "2"
        ],
        [
         "35",
         "2012",
         "dance",
         "1"
        ],
        [
         "36",
         "2012",
         "electrónica",
         "1"
        ],
        [
         "37",
         "2012",
         "flamenco",
         "1"
        ],
        [
         "38",
         "2012",
         "k-pop",
         "1"
        ],
        [
         "39",
         "2012",
         "metal",
         "1"
        ],
        [
         "40",
         "2012",
         "reggae",
         "1"
        ],
        [
         "41",
         "2013",
         "indie",
         "12"
        ],
        [
         "42",
         "2013",
         "rock",
         "10"
        ],
        [
         "43",
         "2013",
         "pop",
         "7"
        ],
        [
         "44",
         "2013",
         "electrónica",
         "4"
        ],
        [
         "45",
         "2013",
         "hip-hop",
         "4"
        ],
        [
         "46",
         "2013",
         "Otros",
         "3"
        ],
        [
         "47",
         "2013",
         "dance",
         "2"
        ],
        [
         "48",
         "2013",
         "folk",
         "2"
        ],
        [
         "49",
         "2013",
         "k-pop",
         "2"
        ]
       ],
       "shape": {
        "columns": 3,
        "rows": 203
       }
      },
      "text/html": [
       "<div>\n",
       "<style scoped>\n",
       "    .dataframe tbody tr th:only-of-type {\n",
       "        vertical-align: middle;\n",
       "    }\n",
       "\n",
       "    .dataframe tbody tr th {\n",
       "        vertical-align: top;\n",
       "    }\n",
       "\n",
       "    .dataframe thead th {\n",
       "        text-align: right;\n",
       "    }\n",
       "</style>\n",
       "<table border=\"1\" class=\"dataframe\">\n",
       "  <thead>\n",
       "    <tr style=\"text-align: right;\">\n",
       "      <th></th>\n",
       "      <th>Year</th>\n",
       "      <th>Genre</th>\n",
       "      <th>Frecuency</th>\n",
       "    </tr>\n",
       "  </thead>\n",
       "  <tbody>\n",
       "    <tr>\n",
       "      <th>0</th>\n",
       "      <td>2010</td>\n",
       "      <td>pop</td>\n",
       "      <td>25</td>\n",
       "    </tr>\n",
       "    <tr>\n",
       "      <th>1</th>\n",
       "      <td>2010</td>\n",
       "      <td>hip-hop</td>\n",
       "      <td>9</td>\n",
       "    </tr>\n",
       "    <tr>\n",
       "      <th>2</th>\n",
       "      <td>2010</td>\n",
       "      <td>electrónica</td>\n",
       "      <td>3</td>\n",
       "    </tr>\n",
       "    <tr>\n",
       "      <th>3</th>\n",
       "      <td>2010</td>\n",
       "      <td>rock</td>\n",
       "      <td>3</td>\n",
       "    </tr>\n",
       "    <tr>\n",
       "      <th>4</th>\n",
       "      <td>2010</td>\n",
       "      <td>samba</td>\n",
       "      <td>3</td>\n",
       "    </tr>\n",
       "    <tr>\n",
       "      <th>...</th>\n",
       "      <td>...</td>\n",
       "      <td>...</td>\n",
       "      <td>...</td>\n",
       "    </tr>\n",
       "    <tr>\n",
       "      <th>198</th>\n",
       "      <td>2025</td>\n",
       "      <td>folk</td>\n",
       "      <td>1</td>\n",
       "    </tr>\n",
       "    <tr>\n",
       "      <th>199</th>\n",
       "      <td>2025</td>\n",
       "      <td>jazz</td>\n",
       "      <td>1</td>\n",
       "    </tr>\n",
       "    <tr>\n",
       "      <th>200</th>\n",
       "      <td>2025</td>\n",
       "      <td>latino</td>\n",
       "      <td>1</td>\n",
       "    </tr>\n",
       "    <tr>\n",
       "      <th>201</th>\n",
       "      <td>2025</td>\n",
       "      <td>metal</td>\n",
       "      <td>1</td>\n",
       "    </tr>\n",
       "    <tr>\n",
       "      <th>202</th>\n",
       "      <td>2025</td>\n",
       "      <td>rock</td>\n",
       "      <td>1</td>\n",
       "    </tr>\n",
       "  </tbody>\n",
       "</table>\n",
       "<p>203 rows × 3 columns</p>\n",
       "</div>"
      ],
      "text/plain": [
       "     Year        Genre  Frecuency\n",
       "0    2010          pop         25\n",
       "1    2010      hip-hop          9\n",
       "2    2010  electrónica          3\n",
       "3    2010         rock          3\n",
       "4    2010        samba          3\n",
       "..    ...          ...        ...\n",
       "198  2025         folk          1\n",
       "199  2025         jazz          1\n",
       "200  2025       latino          1\n",
       "201  2025        metal          1\n",
       "202  2025         rock          1\n",
       "\n",
       "[203 rows x 3 columns]"
      ]
     },
     "execution_count": 28,
     "metadata": {},
     "output_type": "execute_result"
    }
   ],
   "source": [
    "df_generos = df_generos.sort_values(by=['Year', 'Frecuency'], ascending=[True, False])\n",
    "df_generos = df_generos.reset_index(drop=True)\n",
    "df_generos\n"
   ]
  },
  {
   "cell_type": "code",
   "execution_count": 29,
   "metadata": {},
   "outputs": [],
   "source": [
    "df_generos.to_csv(\"Tendencia_generos.csv\")"
   ]
  }
 ],
 "metadata": {
  "kernelspec": {
   "display_name": "Python 3",
   "language": "python",
   "name": "python3"
  },
  "language_info": {
   "codemirror_mode": {
    "name": "ipython",
    "version": 3
   },
   "file_extension": ".py",
   "mimetype": "text/x-python",
   "name": "python",
   "nbconvert_exporter": "python",
   "pygments_lexer": "ipython3",
   "version": "3.12.2"
  }
 },
 "nbformat": 4,
 "nbformat_minor": 2
}
