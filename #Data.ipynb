{
 "cells": [
  {
   "cell_type": "markdown",
   "metadata": {},
   "source": [
    "# API SPOTIFY"
   ]
  },
  {
   "cell_type": "code",
   "execution_count": 1,
   "metadata": {},
   "outputs": [
    {
     "name": "stdout",
     "output_type": "stream",
     "text": [
      "Collecting spotipy\n",
      "  Downloading spotipy-2.25.1-py3-none-any.whl.metadata (5.1 kB)\n",
      "Collecting redis>=3.5.3 (from spotipy)\n",
      "  Downloading redis-5.2.1-py3-none-any.whl.metadata (9.1 kB)\n",
      "Requirement already satisfied: requests>=2.25.0 in c:\\users\\rober\\appdata\\local\\programs\\python\\python312\\lib\\site-packages (from spotipy) (2.32.3)\n",
      "Requirement already satisfied: urllib3>=1.26.0 in c:\\users\\rober\\appdata\\local\\programs\\python\\python312\\lib\\site-packages (from spotipy) (2.2.3)\n",
      "Requirement already satisfied: charset-normalizer<4,>=2 in c:\\users\\rober\\appdata\\local\\programs\\python\\python312\\lib\\site-packages (from requests>=2.25.0->spotipy) (3.4.0)\n",
      "Requirement already satisfied: idna<4,>=2.5 in c:\\users\\rober\\appdata\\local\\programs\\python\\python312\\lib\\site-packages (from requests>=2.25.0->spotipy) (3.10)\n",
      "Requirement already satisfied: certifi>=2017.4.17 in c:\\users\\rober\\appdata\\local\\programs\\python\\python312\\lib\\site-packages (from requests>=2.25.0->spotipy) (2024.8.30)\n",
      "Downloading spotipy-2.25.1-py3-none-any.whl (31 kB)\n",
      "Downloading redis-5.2.1-py3-none-any.whl (261 kB)\n",
      "   ---------------------------------------- 0.0/261.5 kB ? eta -:--:--\n",
      "   ---- ---------------------------------- 30.7/261.5 kB 660.6 kB/s eta 0:00:01\n",
      "   --------------- ------------------------ 102.4/261.5 kB 1.2 MB/s eta 0:00:01\n",
      "   ------------------------------------ --- 235.5/261.5 kB 1.8 MB/s eta 0:00:01\n",
      "   ---------------------------------------- 261.5/261.5 kB 1.8 MB/s eta 0:00:00\n",
      "Installing collected packages: redis, spotipy\n",
      "Successfully installed redis-5.2.1 spotipy-2.25.1\n",
      "Note: you may need to restart the kernel to use updated packages.\n"
     ]
    },
    {
     "name": "stderr",
     "output_type": "stream",
     "text": [
      "\n",
      "[notice] A new release of pip is available: 24.0 -> 25.0.1\n",
      "[notice] To update, run: python.exe -m pip install --upgrade pip\n"
     ]
    }
   ],
   "source": [
    "pip install spotipy"
   ]
  },
  {
   "cell_type": "code",
   "execution_count": 2,
   "metadata": {},
   "outputs": [],
   "source": [
    "import spotipy \n",
    "from spotipy.oauth2 import SpotifyClientCredentials\n",
    "\n",
    "client_id = \"748f4cce341d436cb9ae583633bdafd6\"\n",
    "client_secret = \"bdcc7c65a9244123a26d9472d3dc6865\"\n",
    "redirect_uri=\"http://localhost:8888/callback\",\n",
    "scope=\"playlist-read-private\"\n",
    "\n",
    "sp = spotipy.Spotify(auth_manager=SpotifyClientCredentials(client_id=client_id, client_secret=client_secret))"
   ]
  },
  {
   "cell_type": "markdown",
   "metadata": {},
   "source": [
    "Docs API = https://spotipy.readthedocs.io/en/2.22.1/#spotipy.client.Spotify.category_playlists"
   ]
  },
  {
   "cell_type": "code",
   "execution_count": 9,
   "metadata": {},
   "outputs": [
    {
     "name": "stdout",
     "output_type": "stream",
     "text": [
      "Artistas más populares:\n",
      "1. Taylor Swift - Popularidad: 97\n",
      "2. Kendrick Lamar - Popularidad: 97\n",
      "3. Drake - Popularidad: 97\n",
      "4. Zach Bryan - Popularidad: 87\n",
      "5. Sabrina Carpenter - Popularidad: 91\n",
      "6. Billie Eilish - Popularidad: 94\n",
      "7. Gracie Abrams - Popularidad: 88\n",
      "8. The Weeknd - Popularidad: 97\n",
      "9. Kanye West - Popularidad: 92\n",
      "10. SZA - Popularidad: 95\n"
     ]
    }
   ],
   "source": [
    "# Buscar los artistas más populares en Spotify\n",
    "top_artists = sp.search(q='year:2024', type='artist', limit=10)\n",
    "\n",
    "print(\"Artistas más populares:\")\n",
    "for idx, artist in enumerate(top_artists[\"artists\"][\"items\"]):\n",
    "    print(f\"{idx+1}. {artist['name']} - Popularidad: {artist['popularity']}\")\n"
   ]
  },
  {
   "cell_type": "code",
   "execution_count": 10,
   "metadata": {},
   "outputs": [
    {
     "name": "stdout",
     "output_type": "stream",
     "text": [
      "Géneros más populares:\n",
      "hip hop - 2 artistas\n",
      "rap - 2 artistas\n",
      "west coast hip hop - 1 artistas\n",
      "country - 1 artistas\n",
      "red dirt - 1 artistas\n",
      "r&b - 1 artistas\n"
     ]
    }
   ],
   "source": [
    "# Extraer los géneros más populares de los artistas top\n",
    "popular_genres = []\n",
    "for artist in top_artists[\"artists\"][\"items\"]:\n",
    "    popular_genres.extend(artist[\"genres\"])\n",
    "\n",
    "# Contar los géneros más repetidos\n",
    "from collections import Counter\n",
    "genre_counts = Counter(popular_genres)\n",
    "\n",
    "# Mostrar los 10 géneros más populares\n",
    "print(\"Géneros más populares:\")\n",
    "for genre, count in genre_counts.most_common(10):\n",
    "    print(f\"{genre} - {count} artistas\")\n"
   ]
  },
  {
   "cell_type": "code",
   "execution_count": 11,
   "metadata": {},
   "outputs": [
    {
     "name": "stdout",
     "output_type": "stream",
     "text": [
      "0JQ5DAt0tbjZptfcdMSKl3 - Made For You\n",
      "0JQ5DAqbMKFz6FAsUtgAab - New Releases\n",
      "0JQ5DAqbMKFEC4WFtoNRpw - Pop\n",
      "0JQ5DAqbMKFzHmL4tf05da - Mood\n",
      "0JQ5DAqbMKFQ00XGBls6ym - Hip-Hop\n",
      "0JQ5DAqbMKFA6SOHvT3gck - Party\n",
      "0JQ5DAudkNjCgYMM0TZXDw - Charts\n",
      "0JQ5DAqbMKFHOzuVTgTizF - Dance/Electronic\n",
      "0JQ5DAqbMKFAXlCG6QvYQ4 - Workout\n",
      "0JQ5DAqbMKFPw634sFwguI - EQUAL\n",
      "0JQ5DAqbMKFFtlLYUHv8bT - Alternative\n",
      "0JQ5DAtOnAEpjOgUKwXyxj - Discover\n",
      "0JQ5DAqbMKFF9bY76LXmfI - Frequency\n",
      "0JQ5DAqbMKFCWjUTdzaG0e - Indie\n",
      "0JQ5DAqbMKFEOEBCABAxo9 - Netflix\n",
      "0JQ5DAqbMKFGnsSfvg90Wo - GLOW\n",
      "0JQ5DAqbMKFDXXwE9BDJAr - Rock\n",
      "0JQ5DAqbMKFEZPnFQSFB1T - R&B\n",
      "0JQ5DAqbMKFN2GMExExvrS - Throwback\n",
      "0JQ5DAqbMKFIxnofjQmnmn - Disney\n"
     ]
    }
   ],
   "source": [
    "# Obtener todas las categorías disponibles\n",
    "categories = sp.categories(limit=20)  \n",
    "\n",
    "# Mostrar ID y nombre de todas las categorías disponibles\n",
    "for category in categories[\"categories\"][\"items\"]:\n",
    "    print(category[\"id\"], \"-\", category[\"name\"])"
   ]
  }
 ],
 "metadata": {
  "kernelspec": {
   "display_name": "Python 3",
   "language": "python",
   "name": "python3"
  },
  "language_info": {
   "codemirror_mode": {
    "name": "ipython",
    "version": 3
   },
   "file_extension": ".py",
   "mimetype": "text/x-python",
   "name": "python",
   "nbconvert_exporter": "python",
   "pygments_lexer": "ipython3",
   "version": "3.12.2"
  }
 },
 "nbformat": 4,
 "nbformat_minor": 2
}
