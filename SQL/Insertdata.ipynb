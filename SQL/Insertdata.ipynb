{
 "cells": [
  {
   "cell_type": "code",
   "execution_count": 2,
   "metadata": {},
   "outputs": [],
   "source": [
    "import pandas as pd \n",
    "import mysql.connector\n",
    "from dotenv import load_dotenv\n",
    "from decouple import config \n",
    "import os"
   ]
  },
  {
   "cell_type": "markdown",
   "metadata": {},
   "source": [
    "load_dotenv()\n",
    "\n",
    "connection = mysql.connector.connect(\n",
    "    host= os.getenv(\"host\"),\n",
    "    user= os.getenv(\"user\"),\n",
    "    password= os.getenv(\"password\"),\n",
    "    database=\"music_trends\"\n",
    ")\n",
    "\n",
    "cursor = connection.cursor()"
   ]
  },
  {
   "cell_type": "markdown",
   "metadata": {},
   "source": [
    "generos_df = pd.read_csv(\"C:\\\\Users\\\\Rober\\\\Desktop\\\\PROYECTS\\\\Music Trends Proyect\\\\CSV\\\\cleans\\\\Tendencia_generos.csv\")\n",
    "\n",
    "for row in generos_df.itertuples(index=False):\n",
    "    cursor.execute(\n",
    "        \"INSERT INTO genres (Year, Genre, Frecuency) VALUES (%s, %s, %s)\",\n",
    "        (row.Year, row.Genre, row.Frecuency)\n",
    "    )\n",
    "\n",
    "connection.cursor()\n"
   ]
  }
 ],
 "metadata": {
  "kernelspec": {
   "display_name": "Python 3",
   "language": "python",
   "name": "python3"
  },
  "language_info": {
   "codemirror_mode": {
    "name": "ipython",
    "version": 3
   },
   "file_extension": ".py",
   "mimetype": "text/x-python",
   "name": "python",
   "nbconvert_exporter": "python",
   "pygments_lexer": "ipython3",
   "version": "3.12.2"
  }
 },
 "nbformat": 4,
 "nbformat_minor": 2
}
