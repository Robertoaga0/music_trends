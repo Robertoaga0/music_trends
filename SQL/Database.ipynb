{
 "cells": [
  {
   "cell_type": "code",
   "execution_count": 1,
   "metadata": {},
   "outputs": [],
   "source": [
    "import mysql.connector\n",
    "from dotenv import load_dotenv\n",
    "from decouple import config \n",
    "import os"
   ]
  },
  {
   "cell_type": "code",
   "execution_count": 28,
   "metadata": {},
   "outputs": [],
   "source": [
    "load_dotenv()\n",
    "\n",
    "connection = mysql.connector.connect(\n",
    "    host= os.getenv(\"host\"),\n",
    "    user= os.getenv(\"user\"),\n",
    "    password= os.getenv(\"password\"),\n",
    "    database=\"music_trends\"\n",
    ")\n",
    "\n",
    "cursor = connection.cursor(buffered=True)"
   ]
  },
  {
   "cell_type": "code",
   "execution_count": 3,
   "metadata": {},
   "outputs": [],
   "source": [
    "music_trends = \"\"\"CREATE DATABASE \"music_trends\";\"\"\""
   ]
  },
  {
   "cell_type": "code",
   "execution_count": null,
   "metadata": {},
   "outputs": [],
   "source": [
    "artist= \"\"\"CREATE TABLE artists (\n",
    "    artist_id INT PRIMARY KEY AUTO_INCREMENT,\n",
    "    name VARCHAR(255) UNIQUE NOT NULL\n",
    ");\"\"\"\n",
    "cursor.execute(artist) "
   ]
  },
  {
   "cell_type": "code",
   "execution_count": null,
   "metadata": {},
   "outputs": [],
   "source": [
    "songs=\"\"\"CREATE TABLE songs (\n",
    "    song_id INT PRIMARY KEY AUTO_INCREMENT,\n",
    "    title VARCHAR(255) NOT NULL\n",
    ");\"\"\" \n",
    "cursor.execute(songs)"
   ]
  },
  {
   "cell_type": "code",
   "execution_count": 13,
   "metadata": {},
   "outputs": [],
   "source": [
    "charts = \"\"\" CREATE TABLE charts (\n",
    "    chart_id INT PRIMARY KEY AUTO_INCREMENT,\n",
    "    song_id INT NOT NULL,\n",
    "    artist_id INT NOT NULL,\n",
    "    year INT NOT NULL,\n",
    "    appearances INT,\n",
    "    FOREIGN KEY (song_id) REFERENCES songs(song_id) ON DELETE CASCADE,\n",
    "    FOREIGN KEY (artist_id) REFERENCES artists(artist_id) ON DELETE CASCADE\n",
    ");\n",
    "\"\"\"\n",
    "cursor.execute(charts)"
   ]
  },
  {
   "cell_type": "code",
   "execution_count": 14,
   "metadata": {},
   "outputs": [],
   "source": [
    "genres = \"\"\"CREATE TABLE genres (\n",
    "    genre_id INT PRIMARY KEY AUTO_INCREMENT,\n",
    "    name VARCHAR(100) UNIQUE NOT NULL\n",
    ");\n",
    "\"\"\"\n",
    "cursor.execute(genres)"
   ]
  },
  {
   "cell_type": "code",
   "execution_count": 15,
   "metadata": {},
   "outputs": [],
   "source": [
    "genrestrends = \"\"\"CREATE TABLE genretrends (\n",
    "    trend_id INT PRIMARY KEY AUTO_INCREMENT,\n",
    "    genre_id INT NOT NULL,\n",
    "    year INT NOT NULL,\n",
    "    appearances INT,\n",
    "    FOREIGN KEY (genre_id) REFERENCES genres(genre_id) ON DELETE CASCADE\n",
    ");\n",
    "\"\"\"\n",
    "cursor.execute(genrestrends)"
   ]
  },
  {
   "cell_type": "code",
   "execution_count": null,
   "metadata": {},
   "outputs": [],
   "source": [
    "import pandas as pd\n",
    "\n",
    "\n",
    "generos_df = pd.read_csv(\"C:\\\\Users\\\\Rober\\\\Desktop\\\\PROYECTS\\\\Music Trends Proyect\\\\CSV\\\\cleans\\\\Tendencia_generos.csv\")\n",
    "\n",
    "\n",
    "for genre in generos_df['Genre'].unique():\n",
    "    cursor.execute(\"INSERT IGNORE INTO genres (name) VALUES (%s)\", (genre,))\n",
    "\n",
    "connection.commit()\n",
    "\n",
    "\n",
    "cursor.execute(\"SELECT genre_id, name FROM genres\")\n",
    "genre_map = {name: gid for gid, name in cursor.fetchall()}\n",
    "\n",
    "\n",
    "for row in generos_df.itertuples(index=False):\n",
    "    genre_id = genre_map.get(row.Genre)\n",
    "    if genre_id:\n",
    "        cursor.execute(\n",
    "            \"INSERT INTO genretrends (genre_id, year, appearances) VALUES (%s, %s, %s)\",\n",
    "            (genre_id, row.Year, row.Frecuency)\n",
    "        )\n",
    "connection.commit()\n",
    "\n",
    "\n",
    "canciones_df = pd.read_csv(\"C:\\\\Users\\\\Rober\\\\Desktop\\\\PROYECTS\\\\Music Trends Proyect\\\\CSV\\\\cleans\\\\Tendencia_canciones_artistas.csv\")\n",
    "\n",
    "\n",
    "for song in canciones_df['Song'].unique():\n",
    "    cursor.execute(\"INSERT IGNORE INTO songs (title) VALUES (%s)\", (song,))\n",
    "\n",
    "connection.commit()\n",
    "\n",
    "for artist in canciones_df['Artist'].unique():\n",
    "    cursor.execute(\"INSERT IGNORE INTO artists (name) VALUES (%s)\", (artist,))\n",
    "\n",
    "connection.commit()\n",
    "\n",
    "cursor.execute(\"SELECT song_id, title FROM songs\")\n",
    "song_map = {title: sid for sid, title in cursor.fetchall()}\n",
    "\n",
    "cursor.execute(\"SELECT artist_id, name FROM artists\")\n",
    "artist_map = {name: aid for aid, name in cursor.fetchall()}\n",
    "\n",
    "\n",
    "\n",
    "from datetime import datetime\n",
    "\n",
    "\n",
    "for row in canciones_df.itertuples(index=False):\n",
    "    song_id = song_map.get(row.Song)\n",
    "    artist_id = artist_map.get(row.Artist)  \n",
    "\n",
    "    try:\n",
    "        year = datetime.strptime(row.Date, \"%Y-%m-%d\").year\n",
    "    except Exception as e:\n",
    "        print(f\"Error con la fecha: {row.Date} - {e}\")\n",
    "        continue\n",
    "\n",
    "    if song_id and artist_id:\n",
    "        cursor.execute(\n",
    "            \"INSERT INTO charts (song_id, artist_id, year, appearances) VALUES (%s, %s, %s, %s)\",\n",
    "            (song_id, artist_id,year, row.Position)\n",
    "        )\n",
    "\n",
    "\n",
    "\n",
    "connection.commit()\n",
    "cursor.close()\n",
    "connection.close()\n"
   ]
  }
 ],
 "metadata": {
  "kernelspec": {
   "display_name": "Python 3",
   "language": "python",
   "name": "python3"
  },
  "language_info": {
   "codemirror_mode": {
    "name": "ipython",
    "version": 3
   },
   "file_extension": ".py",
   "mimetype": "text/x-python",
   "name": "python",
   "nbconvert_exporter": "python",
   "pygments_lexer": "ipython3",
   "version": "3.12.2"
  }
 },
 "nbformat": 4,
 "nbformat_minor": 2
}
