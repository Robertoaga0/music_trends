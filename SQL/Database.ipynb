{
 "cells": [
  {
   "cell_type": "code",
   "execution_count": 1,
   "metadata": {},
   "outputs": [],
   "source": [
    "import mysql.connector\n",
    "from dotenv import load_dotenv\n",
    "from decouple import config \n",
    "import os"
   ]
  },
  {
   "cell_type": "code",
   "execution_count": 2,
   "metadata": {},
   "outputs": [],
   "source": [
    "load_dotenv()\n",
    "\n",
    "connection = mysql.connector.connect(\n",
    "    host= os.getenv(\"host\"),\n",
    "    user= os.getenv(\"user\"),\n",
    "    password= os.getenv(\"password\"),\n",
    "    database=\"music_trends\"\n",
    ")\n",
    "\n",
    "cursor = connection.cursor()"
   ]
  },
  {
   "cell_type": "code",
   "execution_count": 3,
   "metadata": {},
   "outputs": [],
   "source": [
    "music_trends = \"\"\"CREATE DATABASE \"music_trends\";\"\"\""
   ]
  },
  {
   "cell_type": "code",
   "execution_count": 10,
   "metadata": {},
   "outputs": [],
   "source": [
    "artist= \"\"\"CREATE TABLE artists (\n",
    "    artist_id INT PRIMARY KEY AUTO_INCREMENT,\n",
    "    name VARCHAR(255) UNIQUE NOT NULL\n",
    ");\"\"\"\n",
    "cursor.execute (artist) "
   ]
  },
  {
   "cell_type": "code",
   "execution_count": 11,
   "metadata": {},
   "outputs": [],
   "source": [
    "songs=\"\"\"CREATE TABLE songs (\n",
    "    song_id INT PRIMARY KEY AUTO_INCREMENT,\n",
    "    title VARCHAR(255) NOT NULL\n",
    ");\"\"\" \n",
    "cursor.execute (songs)"
   ]
  },
  {
   "cell_type": "code",
   "execution_count": 13,
   "metadata": {},
   "outputs": [],
   "source": [
    "charts = \"\"\" CREATE TABLE charts (\n",
    "    chart_id INT PRIMARY KEY AUTO_INCREMENT,\n",
    "    song_id INT NOT NULL,\n",
    "    artist_id INT NOT NULL,\n",
    "    year INT NOT NULL,\n",
    "    appearances INT,\n",
    "    FOREIGN KEY (song_id) REFERENCES songs(song_id) ON DELETE CASCADE,\n",
    "    FOREIGN KEY (artist_id) REFERENCES artists(artist_id) ON DELETE CASCADE\n",
    ");\n",
    "\"\"\"\n",
    "cursor.execute(charts)"
   ]
  },
  {
   "cell_type": "code",
   "execution_count": 14,
   "metadata": {},
   "outputs": [],
   "source": [
    "genres = \"\"\"CREATE TABLE genres (\n",
    "    genre_id INT PRIMARY KEY AUTO_INCREMENT,\n",
    "    name VARCHAR(100) UNIQUE NOT NULL\n",
    ");\n",
    "\"\"\"\n",
    "cursor.execute(genres)"
   ]
  },
  {
   "cell_type": "code",
   "execution_count": 15,
   "metadata": {},
   "outputs": [],
   "source": [
    "genrestrends = \"\"\"CREATE TABLE genretrends (\n",
    "    trend_id INT PRIMARY KEY AUTO_INCREMENT,\n",
    "    genre_id INT NOT NULL,\n",
    "    year INT NOT NULL,\n",
    "    appearances INT,\n",
    "    FOREIGN KEY (genre_id) REFERENCES genres(genre_id) ON DELETE CASCADE\n",
    ");\n",
    "\"\"\"\n",
    "cursor.execute(genrestrends)"
   ]
  },
  {
   "cell_type": "code",
   "execution_count": 22,
   "metadata": {},
   "outputs": [
    {
     "data": {
      "text/plain": [
       "<mysql.connector.cursor_cext.CMySQLCursor at 0x1edb06f0bc0>"
      ]
     },
     "execution_count": 22,
     "metadata": {},
     "output_type": "execute_result"
    }
   ],
   "source": [
    "import pandas as pd \n",
    "\n",
    "generos_df = pd.read_csv(\"C:\\\\Users\\\\Rober\\\\Desktop\\\\PROYECTS\\\\Music Trends Proyect\\\\CSV\\\\cleans\\\\Tendencia_generos.csv\")\n",
    "\n",
    "for row in generos_df.itertuples(index=False):\n",
    "    cursor.execute(\n",
    "        \"\"\"INSERT INTO genres (Year, Genre, Frequency) VALUES (%s, %s, %s)\"\"\",\n",
    "        (row.Year, row.Genre, row.Frecuency)\n",
    "    )\n",
    "\n",
    "canciones_df = pd.read_csv(\"C:\\\\Users\\\\Rober\\\\Desktop\\\\PROYECTS\\\\Music Trends Proyect\\\\CSV\\\\cleans\\\\Tendencia_canciones_artistas.csv\")\n",
    "\n",
    "for row in canciones_df.itertuples(index=False):\n",
    "    cursor.execute(\n",
    "        \"\"\"INSERT INTO songs (Song, Artist) VALUES (%s, %s)\"\"\",\n",
    "        (row.Song, row.Artist)\n",
    "\n",
    "    )\n",
    "\n",
    "for row in canciones_df.itertuples(index=False):\n",
    "    cursor.execute(\n",
    "        \"\"\"INSERT INTO charts(Date, Position) VALUES (%s, %s)\"\"\",\n",
    "        (row.Date,row.Position)\n",
    "    )\n",
    "connection.cursor()\n"
   ]
  }
 ],
 "metadata": {
  "kernelspec": {
   "display_name": "Python 3",
   "language": "python",
   "name": "python3"
  },
  "language_info": {
   "codemirror_mode": {
    "name": "ipython",
    "version": 3
   },
   "file_extension": ".py",
   "mimetype": "text/x-python",
   "name": "python",
   "nbconvert_exporter": "python",
   "pygments_lexer": "ipython3",
   "version": "3.12.2"
  }
 },
 "nbformat": 4,
 "nbformat_minor": 2
}
