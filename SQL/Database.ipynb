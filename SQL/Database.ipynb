{
 "cells": [
  {
   "cell_type": "code",
   "execution_count": 1,
   "metadata": {},
   "outputs": [],
   "source": [
    "import mysql.connector\n",
    "from dotenv import load_dotenv\n",
    "from decouple import config \n",
    "import os"
   ]
  },
  {
   "cell_type": "code",
   "execution_count": 9,
   "metadata": {},
   "outputs": [],
   "source": [
    "load_dotenv()\n",
    "\n",
    "connection = mysql.connector.connect(\n",
    "    host= os.getenv(\"host\"),\n",
    "    user= os.getenv(\"user\"),\n",
    "    password= os.getenv(\"password\"),\n",
    "    database=\"music_trends\"\n",
    ")\n",
    "\n",
    "cursor = connection.cursor()"
   ]
  },
  {
   "cell_type": "code",
   "execution_count": 3,
   "metadata": {},
   "outputs": [],
   "source": [
    "music_trends = \"\"\"CREATE DATABASE \"music_trends\";\"\"\""
   ]
  },
  {
   "cell_type": "code",
   "execution_count": 5,
   "metadata": {},
   "outputs": [
    {
     "data": {
      "text/plain": [
       "<generator object CMySQLCursor._execute_iter at 0x00000202EE9DB790>"
      ]
     },
     "execution_count": 5,
     "metadata": {},
     "output_type": "execute_result"
    }
   ],
   "source": [
    "songs = \"\"\"\n",
    "CREATE TABLE IF NOT EXISTS songs (\n",
    "    id INT AUTO_INCREMENT PRIMARY KEY,\n",
    "    song VARCHAR(255) NOT NULL,\n",
    "    artist VARCHAR(255) NOT NULL\n",
    "); \"\"\"\n",
    "\n",
    "cursor.execute(songs, multi=True)\n"
   ]
  },
  {
   "cell_type": "code",
   "execution_count": 13,
   "metadata": {},
   "outputs": [
    {
     "data": {
      "text/plain": [
       "<generator object CMySQLCursor._execute_iter at 0x000001EDB154CC70>"
      ]
     },
     "execution_count": 13,
     "metadata": {},
     "output_type": "execute_result"
    }
   ],
   "source": [
    "charts =\"\"\"\n",
    "CREATE TABLE IF NOT EXISTS charts (\n",
    "    id INT AUTO_INCREMENT PRIMARY KEY,\n",
    "    date DATE NOT NULL,\n",
    "    position INT NOT NULL,\n",
    "    song_id INT NULL,\n",
    "    FOREIGN KEY (song_id) REFERENCES songs(id) ON DELETE CASCADE\n",
    "); \"\"\"\n",
    "\n",
    "cursor.execute(charts, multi=True)"
   ]
  },
  {
   "cell_type": "code",
   "execution_count": 7,
   "metadata": {},
   "outputs": [
    {
     "data": {
      "text/plain": [
       "<generator object CMySQLCursor._execute_iter at 0x00000202EE9DB4C0>"
      ]
     },
     "execution_count": 7,
     "metadata": {},
     "output_type": "execute_result"
    }
   ],
   "source": [
    "genres = \"\"\"\n",
    "CREATE TABLE IF NOT EXISTS genres (\n",
    "    id INT AUTO_INCREMENT PRIMARY KEY,\n",
    "    year INT NOT NULL,\n",
    "    genre VARCHAR(100) NOT NULL,\n",
    "    frequency INT NOT NULL\n",
    "); \"\"\"\n",
    "\n",
    "cursor.execute(genres, multi=True)"
   ]
  },
  {
   "cell_type": "code",
   "execution_count": 16,
   "metadata": {},
   "outputs": [
    {
     "data": {
      "text/plain": [
       "<mysql.connector.cursor_cext.CMySQLCursor at 0x1edaf176270>"
      ]
     },
     "execution_count": 16,
     "metadata": {},
     "output_type": "execute_result"
    }
   ],
   "source": [
    "import pandas as pd \n",
    "\n",
    "generos_df = pd.read_csv(\"C:\\\\Users\\\\Rober\\\\Desktop\\\\PROYECTS\\\\Music Trends Proyect\\\\CSV\\\\cleans\\\\Tendencia_generos.csv\")\n",
    "\n",
    "for row in generos_df.itertuples(index=False):\n",
    "    cursor.execute(\n",
    "        \"\"\"INSERT INTO genres (Year, Genre, Frequency) VALUES (%s, %s, %s)\"\"\",\n",
    "        (row.Year, row.Genre, row.Frecuency)\n",
    "    )\n",
    "\n",
    "canciones_df = pd.read_csv(\"C:\\\\Users\\\\Rober\\\\Desktop\\\\PROYECTS\\\\Music Trends Proyect\\\\CSV\\\\cleans\\\\Tendencia_canciones_artistas.csv\")\n",
    "\n",
    "for row in canciones_df.itertuples(index=False):\n",
    "    cursor.execute(\n",
    "        \"\"\"INSERT INTO songs (Song, Artist) VALUES (%s, %s)\"\"\",\n",
    "        (row.Song, row.Artist)\n",
    "\n",
    "    )\n",
    "\n",
    "for row in canciones_df.itertuples(index=False):\n",
    "    cursor.execute(\n",
    "        \"\"\"INSERT INTO charts(Date, Position) VALUES (%s, %s)\"\"\",\n",
    "        (row.Date,row.Position)\n",
    "    )\n",
    "connection.cursor()\n"
   ]
  },
  {
   "cell_type": "code",
   "execution_count": 7,
   "metadata": {},
   "outputs": [],
   "source": [
    "cursor.close()\n",
    "connection.close()"
   ]
  }
 ],
 "metadata": {
  "kernelspec": {
   "display_name": "Python 3",
   "language": "python",
   "name": "python3"
  },
  "language_info": {
   "codemirror_mode": {
    "name": "ipython",
    "version": 3
   },
   "file_extension": ".py",
   "mimetype": "text/x-python",
   "name": "python",
   "nbconvert_exporter": "python",
   "pygments_lexer": "ipython3",
   "version": "3.12.2"
  }
 },
 "nbformat": 4,
 "nbformat_minor": 2
}
