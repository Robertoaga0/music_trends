{
 "cells": [
  {
   "cell_type": "code",
   "execution_count": 5,
   "metadata": {},
   "outputs": [],
   "source": [
    "import mysql.connector"
   ]
  },
  {
   "cell_type": "code",
   "execution_count": 7,
   "metadata": {},
   "outputs": [],
   "source": [
    "music_trends = \"\"\"CREATE DATABASE \"music_trends\";\"\"\""
   ]
  },
  {
   "cell_type": "code",
   "execution_count": 12,
   "metadata": {},
   "outputs": [
    {
     "name": "stdout",
     "output_type": "stream",
     "text": [
      "Conexión exitosa a la base de datos.\n"
     ]
    }
   ],
   "source": [
    "\n",
    "# Configuración de la conexión\n",
    "config = {\n",
    "    \"user\": \"root\",  # Usuario de MySQL\n",
    "    \"password\": \"Mysql123\",  # Contraseña de MySQL\n",
    "    \"host\": \"127.0.0.1\",  # Host de la base de datos\n",
    "    #\"database\": \"music_trends\",  # Nombre de la base de datos\n",
    "    \"raise_on_warnings\": True\n",
    "}\n",
    "\n",
    "# Conectar a la base de datos\n",
    "try:\n",
    "    conexion = mysql.connector.connect(**config)\n",
    "    print(\"Conexión exitosa a la base de datos.\")\n",
    "except mysql.connector.Error as err:\n",
    "    print(f\"Error al conectar a la base de datos: {err}\")"
   ]
  }
 ],
 "metadata": {
  "kernelspec": {
   "display_name": "Python 3",
   "language": "python",
   "name": "python3"
  },
  "language_info": {
   "codemirror_mode": {
    "name": "ipython",
    "version": 3
   },
   "file_extension": ".py",
   "mimetype": "text/x-python",
   "name": "python",
   "nbconvert_exporter": "python",
   "pygments_lexer": "ipython3",
   "version": "3.12.2"
  }
 },
 "nbformat": 4,
 "nbformat_minor": 2
}
