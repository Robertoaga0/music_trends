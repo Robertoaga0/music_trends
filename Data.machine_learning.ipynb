{
 "cells": [
  {
   "cell_type": "code",
   "execution_count": 1,
   "metadata": {},
   "outputs": [
    {
     "name": "stdout",
     "output_type": "stream",
     "text": [
      "{'display_name': 'robergonzalez', 'external_urls': {'spotify': 'https://open.spotify.com/user/robergonzalez'}, 'followers': {'href': None, 'total': 6}, 'href': 'https://api.spotify.com/v1/users/robergonzalez', 'id': 'robergonzalez', 'images': [{'height': 300, 'url': 'https://i.scdn.co/image/ab6775700000ee85894e26e1046ec9e27066fddf', 'width': 300}, {'height': 64, 'url': 'https://i.scdn.co/image/ab67757000003b82894e26e1046ec9e27066fddf', 'width': 64}], 'type': 'user', 'uri': 'spotify:user:robergonzalez'}\n"
     ]
    }
   ],
   "source": [
    "import spotipy\n",
    "from spotipy.oauth2 import SpotifyOAuth\n",
    "\n",
    "sp = spotipy.Spotify(auth_manager=SpotifyOAuth(\n",
    "    client_id=\"748f4cce341d436cb9ae583633bdafd6\",\n",
    "    client_secret=\"bdcc7c65a9244123a26d9472d3dc6865\",\n",
    "    redirect_uri=\"http://localhost:8888/callback\",\n",
    "    scope=\"playlist-read-private\"\n",
    "))\n",
    "\n",
    "print(sp.me())  # Esto debería devolver tu información de usuario si la autenticación es correcta\n",
    "\n"
   ]
  },
  {
   "cell_type": "code",
   "execution_count": 2,
   "metadata": {},
   "outputs": [
    {
     "name": "stdout",
     "output_type": "stream",
     "text": [
      "Slowed vibe\n",
      "Workout 2.0\n",
      "Work out\n",
      "No se\n",
      "Bad habit \n",
      "#23\n",
      "INN - CLUB - CORUÑA\n",
      "Progresive \n",
      "Bass \n",
      "De camino\n",
      "Fifa mix \n",
      "Rage \n",
      "Radio\n",
      "Mandangón \n",
      "Caribe mix \n",
      "Dopamina\n",
      "Dalee \n",
      "Remembers infancia\n",
      "Furgoneteo\n",
      "• ＴＥＣＨＮＯ\n",
      "Paseo rollo indie\n",
      "Oceans\n",
      "Paseo\n",
      "Se acabó la función\n",
      "🔥 Engorile\n",
      " \n",
      "Zapatillas\n",
      "Playa Club Coruña \n",
      "§\n",
      "-\n",
      "Electrónica\n",
      "2010\n",
      "Above the clouds\n",
      "Rap chungo\n",
      "Cositas\n",
      "Rollo indie y eso\n",
      "Favoritos\n"
     ]
    }
   ],
   "source": [
    "playlists = sp.current_user_playlists()\n",
    "for playlist in playlists['items']:\n",
    "    print(playlist['name'])\n"
   ]
  }
 ],
 "metadata": {
  "kernelspec": {
   "display_name": "Python 3",
   "language": "python",
   "name": "python3"
  },
  "language_info": {
   "codemirror_mode": {
    "name": "ipython",
    "version": 3
   },
   "file_extension": ".py",
   "mimetype": "text/x-python",
   "name": "python",
   "nbconvert_exporter": "python",
   "pygments_lexer": "ipython3",
   "version": "3.12.2"
  }
 },
 "nbformat": 4,
 "nbformat_minor": 2
}
